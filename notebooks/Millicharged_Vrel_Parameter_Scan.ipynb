{
 "cells": [
  {
   "cell_type": "markdown",
   "metadata": {},
   "source": [
    "# Preamble"
   ]
  },
  {
   "cell_type": "code",
   "execution_count": 1,
   "metadata": {},
   "outputs": [],
   "source": [
    "%load_ext autoreload\n",
    "import sys\n",
    "sys.path.append(\"..\")"
   ]
  },
  {
   "cell_type": "code",
   "execution_count": 2,
   "metadata": {},
   "outputs": [],
   "source": [
    "%matplotlib inline"
   ]
  },
  {
   "cell_type": "code",
   "execution_count": 3,
   "metadata": {},
   "outputs": [],
   "source": [
    "%autoreload\n",
    "\n",
    "import matplotlib\n",
    "matplotlib.rc_file('matplotlibrc')\n",
    "import matplotlib.pyplot as plt\n",
    "\n",
    "import numpy as np\n",
    "import pickle\n",
    "\n",
    "from multiprocessing import Pool \n",
    "from scipy.interpolate import interp1d\n",
    "from scipy.integrate import solve_ivp\n",
    "from tqdm.notebook import tqdm as tqdm\n",
    "\n",
    "\n",
    "import integrals as integ\n",
    "import diff_eq_multi_2 as diff_eq\n",
    "import physics as phys\n",
    "\n",
    "# Load the standard solution.\n",
    "a = pickle.load(open('../data/std_soln_He.p','rb'))\n",
    "\n",
    "std_Tm = interp1d(a[0,:], a[1,:])\n",
    "std_xH = interp1d(a[0,:], a[2,:])"
   ]
  },
  {
   "cell_type": "markdown",
   "metadata": {},
   "source": [
    "# Constraints on $Q_\\text{eff}$"
   ]
  },
  {
   "cell_type": "code",
   "execution_count": 4,
   "metadata": {},
   "outputs": [],
   "source": [
    "def max_Q_d_eff(m_m, m_C, f, Q):\n",
    "    '''\n",
    "    Constraints on Q_eff from self-interaction, CMB and tight coupling. Q_eff \n",
    "    is defined by Q_eff^4 = alpha_C*alpha_m / alpha_EM^2\n",
    "    '''\n",
    "    g_em    = np.sqrt(4*np.pi*phys.alpha)\n",
    "    mu_pC   = m_C*phys.mp/(m_C + phys.mp)\n",
    "    f_ratio = 1. + phys.omega_baryon/(f*phys.omega_DM)\n",
    "    \n",
    "    max_SI             = 0.26*(m_C/1e9)**(3/8) * np.sqrt(np.sqrt(4*np.pi)/g_em)\n",
    "    max_CMB            = 1e-3 * np.sqrt(m_C/1e9) * np.sqrt(m_m/1e9) * (1e9/(m_m + m_C))**0.25 * f_ratio**0.25\n",
    "    max_tight_coupling = 0.08 * np.sqrt(Q) * np.sqrt(m_C/1e8) * (1e9/m_m)**0.25\n",
    "    \n",
    "    return np.min((max_SI, max_CMB, max_tight_coupling))"
   ]
  },
  {
   "cell_type": "markdown",
   "metadata": {},
   "source": [
    "# Function for Solving ODE"
   ]
  },
  {
   "cell_type": "code",
   "execution_count": 5,
   "metadata": {},
   "outputs": [],
   "source": [
    " def solve_ODE(params):\n",
    "    '''\n",
    "    Sets up the ODE with parameters given in params. \n",
    "    '''\n",
    "        \n",
    "    _m_m      = params[0]\n",
    "    _m_C      = params[1]\n",
    "    _f        = params[2]\n",
    "    _Q        = params[3]\n",
    "    _rtol     = params[4]\n",
    "    _max_step = params[5]\n",
    "    init_cond = params[6]\n",
    "    \n",
    "    # Fine the maximum Q_d,eff from the input parameters. \n",
    "    _Q_d_eff = max_Q_d_eff(_m_m, _m_C, _f, _Q)\n",
    "\n",
    "    def to_integrate(rs, var):\n",
    "\n",
    "        # Decide whether to include neutrals.\n",
    "        neutral_H  = True\n",
    "        neutral_He = True\n",
    "\n",
    "        # Gets the function that returns all the derivatives. \n",
    "        # Last option here is whether to integrate with log_T_C or not.\n",
    "        return diff_eq.DM_baryon_ODE(\n",
    "            rs, var,\n",
    "            _m_m, _m_C, _Q, _Q_d_eff, neutral_H, neutral_He, _f, True\n",
    "        )\n",
    "\n",
    "    # Number of attempts before giving up. \n",
    "    N_attempts = 0\n",
    "    # Flag to determine if solution was reached.\n",
    "    solved     = False\n",
    "\n",
    "    # List of indices (m_m, Q) where the solution failed. \n",
    "    error_arr = [] \n",
    "\n",
    "    while (not solved) and (N_attempts < 1):\n",
    "        # Keep attempting until solved or we've tried twice. \n",
    "\n",
    "        try:\n",
    "\n",
    "            N_attempts += 1\n",
    "\n",
    "            # Solve using solve_ivp. \n",
    "            soln = solve_ivp(\n",
    "                to_integrate, [rs_vec[0], rs_vec[-1]], init_cond, \n",
    "                method='BDF', t_eval=rs_vec, \n",
    "                rtol=_rtol, max_step=_max_step\n",
    "            )\n",
    "\n",
    "        except:\n",
    "            # solve_ivp returned an error. Adjust the tolerance\n",
    "            # and step size and try again. \n",
    "\n",
    "            _rtol /= 1.2\n",
    "            _max_step /= 1.5\n",
    "\n",
    "        else:\n",
    "            # solve_ivp completed successfully. However, we still need to check\n",
    "            # that the solution managed to integrate over the entire redshift range,\n",
    "            # and that there are no NaNs in the solution.\n",
    "            if soln['t'].size == rs_vec.size and not np.isnan(soln['y']).any():\n",
    "\n",
    "                solved = True\n",
    "\n",
    "    if not solved:\n",
    "        # If solution fails, simply return False. \n",
    "        soln = False\n",
    "\n",
    "    return soln "
   ]
  },
  {
   "cell_type": "markdown",
   "metadata": {},
   "source": [
    "# Fixed Parameters"
   ]
  },
  {
   "cell_type": "code",
   "execution_count": 6,
   "metadata": {},
   "outputs": [],
   "source": [
    "rs_start = 4000\n",
    "rs_vec   = np.flipud(np.arange(10., rs_start, 1))\n",
    "\n",
    "# Fixed Parameters\n",
    "f   = 1e-4\n",
    "m_C = 1e8   \n",
    "\n",
    "# Loop Points\n",
    "# m_m_arr = np.array([3e6, 1e7, 3e7, 1e8, 3e8, 1e9, 3e9, 1e10, 3e10, 1e11, 3e11, 1e12, 3e12, 1e13])\n",
    "m_m       = 3e8\n",
    "Q_arr     = 10**np.arange(-6.,  0.2, 0.2) # 31 entries\n",
    "V_rel_arr = np.arange(0., 4.1, 0.103) * 29e5 / phys.c\n",
    "V_rel_arr[0] = 1e-16\n",
    "# Q_arr = Q_arr[::3]\n",
    "# V_rel_arr = V_rel_arr[::10]"
   ]
  },
  {
   "cell_type": "code",
   "execution_count": 7,
   "metadata": {},
   "outputs": [
    {
     "name": "stdout",
     "output_type": "stream",
     "text": [
      "[1.0337671e-12 1.0300000e-01 2.0600000e-01 3.0900000e-01 4.1200000e-01\n",
      " 5.1500000e-01 6.1800000e-01 7.2100000e-01 8.2400000e-01 9.2700000e-01\n",
      " 1.0300000e+00 1.1330000e+00 1.2360000e+00 1.3390000e+00 1.4420000e+00\n",
      " 1.5450000e+00 1.6480000e+00 1.7510000e+00 1.8540000e+00 1.9570000e+00\n",
      " 2.0600000e+00 2.1630000e+00 2.2660000e+00 2.3690000e+00 2.4720000e+00\n",
      " 2.5750000e+00 2.6780000e+00 2.7810000e+00 2.8840000e+00 2.9870000e+00\n",
      " 3.0900000e+00 3.1930000e+00 3.2960000e+00 3.3990000e+00 3.5020000e+00\n",
      " 3.6050000e+00 3.7080000e+00 3.8110000e+00 3.9140000e+00 4.0170000e+00]\n"
     ]
    }
   ],
   "source": [
    "print(V_rel_arr * phys.c / 29e5)"
   ]
  },
  {
   "cell_type": "markdown",
   "metadata": {},
   "source": [
    "# Loop"
   ]
  },
  {
   "cell_type": "code",
   "execution_count": 8,
   "metadata": {
    "scrolled": true
   },
   "outputs": [
    {
     "data": {
      "application/vnd.jupyter.widget-view+json": {
       "model_id": "a8301e90f9ed404c9f6adc9ec3132813",
       "version_major": 2,
       "version_minor": 0
      },
      "text/plain": [
       "HBox(children=(FloatProgress(value=0.0, max=31.0), HTML(value='')))"
      ]
     },
     "metadata": {},
     "output_type": "display_data"
    },
    {
     "data": {
      "application/vnd.jupyter.widget-view+json": {
       "model_id": "b25035f918774a849a263c41a5ab212d",
       "version_major": 2,
       "version_minor": 0
      },
      "text/plain": [
       "HBox(children=(FloatProgress(value=1.0, bar_style='info', max=1.0), HTML(value='')))"
      ]
     },
     "metadata": {},
     "output_type": "display_data"
    },
    {
     "name": "stdout",
     "output_type": "stream",
     "text": [
      "\n",
      "Errors:  [[0, 0], [0, 5], [0, 22], [0, 26]]\n"
     ]
    },
    {
     "data": {
      "application/vnd.jupyter.widget-view+json": {
       "model_id": "5fec4f03595f40f7aae07b92b11dcd4c",
       "version_major": 2,
       "version_minor": 0
      },
      "text/plain": [
       "HBox(children=(FloatProgress(value=1.0, bar_style='info', max=1.0), HTML(value='')))"
      ]
     },
     "metadata": {},
     "output_type": "display_data"
    },
    {
     "name": "stdout",
     "output_type": "stream",
     "text": [
      "\n",
      "Errors:  [[0, 0], [0, 5], [0, 22], [0, 26], [1, 0], [1, 3], [1, 9], [1, 13], [1, 17], [1, 18], [1, 21], [1, 23], [1, 24], [1, 27], [1, 30], [1, 33], [1, 34]]\n"
     ]
    },
    {
     "data": {
      "application/vnd.jupyter.widget-view+json": {
       "model_id": "0a8dc3472d6341c3aad6ba6b1be7bdac",
       "version_major": 2,
       "version_minor": 0
      },
      "text/plain": [
       "HBox(children=(FloatProgress(value=1.0, bar_style='info', max=1.0), HTML(value='')))"
      ]
     },
     "metadata": {},
     "output_type": "display_data"
    },
    {
     "name": "stdout",
     "output_type": "stream",
     "text": [
      "\n",
      "Errors:  [[0, 0], [0, 5], [0, 22], [0, 26], [1, 0], [1, 3], [1, 9], [1, 13], [1, 17], [1, 18], [1, 21], [1, 23], [1, 24], [1, 27], [1, 30], [1, 33], [1, 34], [2, 0]]\n"
     ]
    },
    {
     "data": {
      "application/vnd.jupyter.widget-view+json": {
       "model_id": "dce9735cc73541d3b191a04650a28f0b",
       "version_major": 2,
       "version_minor": 0
      },
      "text/plain": [
       "HBox(children=(FloatProgress(value=1.0, bar_style='info', max=1.0), HTML(value='')))"
      ]
     },
     "metadata": {},
     "output_type": "display_data"
    },
    {
     "name": "stdout",
     "output_type": "stream",
     "text": [
      "\n",
      "Errors:  [[0, 0], [0, 5], [0, 22], [0, 26], [1, 0], [1, 3], [1, 9], [1, 13], [1, 17], [1, 18], [1, 21], [1, 23], [1, 24], [1, 27], [1, 30], [1, 33], [1, 34], [2, 0], [3, 0], [3, 2], [3, 18], [3, 29], [3, 35]]\n"
     ]
    },
    {
     "data": {
      "application/vnd.jupyter.widget-view+json": {
       "model_id": "2ca27ec860164ce8b302a8f9d398defc",
       "version_major": 2,
       "version_minor": 0
      },
      "text/plain": [
       "HBox(children=(FloatProgress(value=1.0, bar_style='info', max=1.0), HTML(value='')))"
      ]
     },
     "metadata": {},
     "output_type": "display_data"
    },
    {
     "name": "stdout",
     "output_type": "stream",
     "text": [
      "\n",
      "Errors:  [[0, 0], [0, 5], [0, 22], [0, 26], [1, 0], [1, 3], [1, 9], [1, 13], [1, 17], [1, 18], [1, 21], [1, 23], [1, 24], [1, 27], [1, 30], [1, 33], [1, 34], [2, 0], [3, 0], [3, 2], [3, 18], [3, 29], [3, 35], [4, 0], [4, 2], [4, 10], [4, 13], [4, 18], [4, 19], [4, 25], [4, 28]]\n"
     ]
    },
    {
     "data": {
      "application/vnd.jupyter.widget-view+json": {
       "model_id": "ea4978f9ad814dc78b9395a23c010ff1",
       "version_major": 2,
       "version_minor": 0
      },
      "text/plain": [
       "HBox(children=(FloatProgress(value=1.0, bar_style='info', max=1.0), HTML(value='')))"
      ]
     },
     "metadata": {},
     "output_type": "display_data"
    },
    {
     "name": "stdout",
     "output_type": "stream",
     "text": [
      "\n",
      "Errors:  [[0, 0], [0, 5], [0, 22], [0, 26], [1, 0], [1, 3], [1, 9], [1, 13], [1, 17], [1, 18], [1, 21], [1, 23], [1, 24], [1, 27], [1, 30], [1, 33], [1, 34], [2, 0], [3, 0], [3, 2], [3, 18], [3, 29], [3, 35], [4, 0], [4, 2], [4, 10], [4, 13], [4, 18], [4, 19], [4, 25], [4, 28], [5, 0], [5, 2], [5, 3], [5, 21], [5, 33], [5, 35]]\n"
     ]
    },
    {
     "data": {
      "application/vnd.jupyter.widget-view+json": {
       "model_id": "ddd963a1784f47c49ae6c54450c1819c",
       "version_major": 2,
       "version_minor": 0
      },
      "text/plain": [
       "HBox(children=(FloatProgress(value=1.0, bar_style='info', max=1.0), HTML(value='')))"
      ]
     },
     "metadata": {},
     "output_type": "display_data"
    },
    {
     "name": "stdout",
     "output_type": "stream",
     "text": [
      "\n",
      "Errors:  [[0, 0], [0, 5], [0, 22], [0, 26], [1, 0], [1, 3], [1, 9], [1, 13], [1, 17], [1, 18], [1, 21], [1, 23], [1, 24], [1, 27], [1, 30], [1, 33], [1, 34], [2, 0], [3, 0], [3, 2], [3, 18], [3, 29], [3, 35], [4, 0], [4, 2], [4, 10], [4, 13], [4, 18], [4, 19], [4, 25], [4, 28], [5, 0], [5, 2], [5, 3], [5, 21], [5, 33], [5, 35], [6, 0], [6, 14], [6, 34]]\n"
     ]
    },
    {
     "data": {
      "application/vnd.jupyter.widget-view+json": {
       "model_id": "521b44f5fc714c5ea45b0495147b626a",
       "version_major": 2,
       "version_minor": 0
      },
      "text/plain": [
       "HBox(children=(FloatProgress(value=1.0, bar_style='info', max=1.0), HTML(value='')))"
      ]
     },
     "metadata": {},
     "output_type": "display_data"
    },
    {
     "name": "stdout",
     "output_type": "stream",
     "text": [
      "\n",
      "Errors:  [[0, 0], [0, 5], [0, 22], [0, 26], [1, 0], [1, 3], [1, 9], [1, 13], [1, 17], [1, 18], [1, 21], [1, 23], [1, 24], [1, 27], [1, 30], [1, 33], [1, 34], [2, 0], [3, 0], [3, 2], [3, 18], [3, 29], [3, 35], [4, 0], [4, 2], [4, 10], [4, 13], [4, 18], [4, 19], [4, 25], [4, 28], [5, 0], [5, 2], [5, 3], [5, 21], [5, 33], [5, 35], [6, 0], [6, 14], [6, 34], [7, 0], [7, 18], [7, 26]]\n"
     ]
    },
    {
     "data": {
      "application/vnd.jupyter.widget-view+json": {
       "model_id": "bab149016cd647e6914a4d0f3f9e909c",
       "version_major": 2,
       "version_minor": 0
      },
      "text/plain": [
       "HBox(children=(FloatProgress(value=1.0, bar_style='info', max=1.0), HTML(value='')))"
      ]
     },
     "metadata": {},
     "output_type": "display_data"
    },
    {
     "name": "stdout",
     "output_type": "stream",
     "text": [
      "\n",
      "Errors:  [[0, 0], [0, 5], [0, 22], [0, 26], [1, 0], [1, 3], [1, 9], [1, 13], [1, 17], [1, 18], [1, 21], [1, 23], [1, 24], [1, 27], [1, 30], [1, 33], [1, 34], [2, 0], [3, 0], [3, 2], [3, 18], [3, 29], [3, 35], [4, 0], [4, 2], [4, 10], [4, 13], [4, 18], [4, 19], [4, 25], [4, 28], [5, 0], [5, 2], [5, 3], [5, 21], [5, 33], [5, 35], [6, 0], [6, 14], [6, 34], [7, 0], [7, 18], [7, 26], [8, 0], [8, 5], [8, 12], [8, 19], [8, 39]]\n"
     ]
    },
    {
     "data": {
      "application/vnd.jupyter.widget-view+json": {
       "model_id": "1bb4e74f148e47b185a89a1089a421a9",
       "version_major": 2,
       "version_minor": 0
      },
      "text/plain": [
       "HBox(children=(FloatProgress(value=1.0, bar_style='info', max=1.0), HTML(value='')))"
      ]
     },
     "metadata": {},
     "output_type": "display_data"
    },
    {
     "name": "stdout",
     "output_type": "stream",
     "text": [
      "\n",
      "Errors:  [[0, 0], [0, 5], [0, 22], [0, 26], [1, 0], [1, 3], [1, 9], [1, 13], [1, 17], [1, 18], [1, 21], [1, 23], [1, 24], [1, 27], [1, 30], [1, 33], [1, 34], [2, 0], [3, 0], [3, 2], [3, 18], [3, 29], [3, 35], [4, 0], [4, 2], [4, 10], [4, 13], [4, 18], [4, 19], [4, 25], [4, 28], [5, 0], [5, 2], [5, 3], [5, 21], [5, 33], [5, 35], [6, 0], [6, 14], [6, 34], [7, 0], [7, 18], [7, 26], [8, 0], [8, 5], [8, 12], [8, 19], [8, 39], [9, 0], [9, 9], [9, 36]]\n"
     ]
    },
    {
     "data": {
      "application/vnd.jupyter.widget-view+json": {
       "model_id": "778313a6b32e4539856eb764e9306fd8",
       "version_major": 2,
       "version_minor": 0
      },
      "text/plain": [
       "HBox(children=(FloatProgress(value=1.0, bar_style='info', max=1.0), HTML(value='')))"
      ]
     },
     "metadata": {},
     "output_type": "display_data"
    },
    {
     "name": "stdout",
     "output_type": "stream",
     "text": [
      "\n",
      "Errors:  [[0, 0], [0, 5], [0, 22], [0, 26], [1, 0], [1, 3], [1, 9], [1, 13], [1, 17], [1, 18], [1, 21], [1, 23], [1, 24], [1, 27], [1, 30], [1, 33], [1, 34], [2, 0], [3, 0], [3, 2], [3, 18], [3, 29], [3, 35], [4, 0], [4, 2], [4, 10], [4, 13], [4, 18], [4, 19], [4, 25], [4, 28], [5, 0], [5, 2], [5, 3], [5, 21], [5, 33], [5, 35], [6, 0], [6, 14], [6, 34], [7, 0], [7, 18], [7, 26], [8, 0], [8, 5], [8, 12], [8, 19], [8, 39], [9, 0], [9, 9], [9, 36], [10, 0], [10, 1], [10, 9]]\n"
     ]
    },
    {
     "data": {
      "application/vnd.jupyter.widget-view+json": {
       "model_id": "11bf60ed95f54e909c899ec178dc8d97",
       "version_major": 2,
       "version_minor": 0
      },
      "text/plain": [
       "HBox(children=(FloatProgress(value=1.0, bar_style='info', max=1.0), HTML(value='')))"
      ]
     },
     "metadata": {},
     "output_type": "display_data"
    },
    {
     "name": "stdout",
     "output_type": "stream",
     "text": [
      "\n",
      "Errors:  [[0, 0], [0, 5], [0, 22], [0, 26], [1, 0], [1, 3], [1, 9], [1, 13], [1, 17], [1, 18], [1, 21], [1, 23], [1, 24], [1, 27], [1, 30], [1, 33], [1, 34], [2, 0], [3, 0], [3, 2], [3, 18], [3, 29], [3, 35], [4, 0], [4, 2], [4, 10], [4, 13], [4, 18], [4, 19], [4, 25], [4, 28], [5, 0], [5, 2], [5, 3], [5, 21], [5, 33], [5, 35], [6, 0], [6, 14], [6, 34], [7, 0], [7, 18], [7, 26], [8, 0], [8, 5], [8, 12], [8, 19], [8, 39], [9, 0], [9, 9], [9, 36], [10, 0], [10, 1], [10, 9], [11, 9], [11, 24], [11, 32]]\n"
     ]
    },
    {
     "data": {
      "application/vnd.jupyter.widget-view+json": {
       "model_id": "a59f91058eca4459b00e45cefe871616",
       "version_major": 2,
       "version_minor": 0
      },
      "text/plain": [
       "HBox(children=(FloatProgress(value=1.0, bar_style='info', max=1.0), HTML(value='')))"
      ]
     },
     "metadata": {},
     "output_type": "display_data"
    },
    {
     "name": "stdout",
     "output_type": "stream",
     "text": [
      "\n",
      "Errors:  [[0, 0], [0, 5], [0, 22], [0, 26], [1, 0], [1, 3], [1, 9], [1, 13], [1, 17], [1, 18], [1, 21], [1, 23], [1, 24], [1, 27], [1, 30], [1, 33], [1, 34], [2, 0], [3, 0], [3, 2], [3, 18], [3, 29], [3, 35], [4, 0], [4, 2], [4, 10], [4, 13], [4, 18], [4, 19], [4, 25], [4, 28], [5, 0], [5, 2], [5, 3], [5, 21], [5, 33], [5, 35], [6, 0], [6, 14], [6, 34], [7, 0], [7, 18], [7, 26], [8, 0], [8, 5], [8, 12], [8, 19], [8, 39], [9, 0], [9, 9], [9, 36], [10, 0], [10, 1], [10, 9], [11, 9], [11, 24], [11, 32], [12, 0], [12, 9]]\n"
     ]
    },
    {
     "data": {
      "application/vnd.jupyter.widget-view+json": {
       "model_id": "6b55a054fc2c4ff180f37db0895e7e55",
       "version_major": 2,
       "version_minor": 0
      },
      "text/plain": [
       "HBox(children=(FloatProgress(value=1.0, bar_style='info', max=1.0), HTML(value='')))"
      ]
     },
     "metadata": {},
     "output_type": "display_data"
    },
    {
     "name": "stdout",
     "output_type": "stream",
     "text": [
      "\n",
      "Errors:  [[0, 0], [0, 5], [0, 22], [0, 26], [1, 0], [1, 3], [1, 9], [1, 13], [1, 17], [1, 18], [1, 21], [1, 23], [1, 24], [1, 27], [1, 30], [1, 33], [1, 34], [2, 0], [3, 0], [3, 2], [3, 18], [3, 29], [3, 35], [4, 0], [4, 2], [4, 10], [4, 13], [4, 18], [4, 19], [4, 25], [4, 28], [5, 0], [5, 2], [5, 3], [5, 21], [5, 33], [5, 35], [6, 0], [6, 14], [6, 34], [7, 0], [7, 18], [7, 26], [8, 0], [8, 5], [8, 12], [8, 19], [8, 39], [9, 0], [9, 9], [9, 36], [10, 0], [10, 1], [10, 9], [11, 9], [11, 24], [11, 32], [12, 0], [12, 9], [13, 0], [13, 8], [13, 12]]\n"
     ]
    },
    {
     "data": {
      "application/vnd.jupyter.widget-view+json": {
       "model_id": "8e5f6f524dbc446bb07cc76c7b66f355",
       "version_major": 2,
       "version_minor": 0
      },
      "text/plain": [
       "HBox(children=(FloatProgress(value=1.0, bar_style='info', max=1.0), HTML(value='')))"
      ]
     },
     "metadata": {},
     "output_type": "display_data"
    },
    {
     "name": "stdout",
     "output_type": "stream",
     "text": [
      "\n",
      "Errors:  [[0, 0], [0, 5], [0, 22], [0, 26], [1, 0], [1, 3], [1, 9], [1, 13], [1, 17], [1, 18], [1, 21], [1, 23], [1, 24], [1, 27], [1, 30], [1, 33], [1, 34], [2, 0], [3, 0], [3, 2], [3, 18], [3, 29], [3, 35], [4, 0], [4, 2], [4, 10], [4, 13], [4, 18], [4, 19], [4, 25], [4, 28], [5, 0], [5, 2], [5, 3], [5, 21], [5, 33], [5, 35], [6, 0], [6, 14], [6, 34], [7, 0], [7, 18], [7, 26], [8, 0], [8, 5], [8, 12], [8, 19], [8, 39], [9, 0], [9, 9], [9, 36], [10, 0], [10, 1], [10, 9], [11, 9], [11, 24], [11, 32], [12, 0], [12, 9], [13, 0], [13, 8], [13, 12], [14, 0], [14, 27]]\n"
     ]
    },
    {
     "data": {
      "application/vnd.jupyter.widget-view+json": {
       "model_id": "e27225611ce04310b50918cd51ab52c7",
       "version_major": 2,
       "version_minor": 0
      },
      "text/plain": [
       "HBox(children=(FloatProgress(value=1.0, bar_style='info', max=1.0), HTML(value='')))"
      ]
     },
     "metadata": {},
     "output_type": "display_data"
    },
    {
     "name": "stdout",
     "output_type": "stream",
     "text": [
      "\n",
      "Errors:  [[0, 0], [0, 5], [0, 22], [0, 26], [1, 0], [1, 3], [1, 9], [1, 13], [1, 17], [1, 18], [1, 21], [1, 23], [1, 24], [1, 27], [1, 30], [1, 33], [1, 34], [2, 0], [3, 0], [3, 2], [3, 18], [3, 29], [3, 35], [4, 0], [4, 2], [4, 10], [4, 13], [4, 18], [4, 19], [4, 25], [4, 28], [5, 0], [5, 2], [5, 3], [5, 21], [5, 33], [5, 35], [6, 0], [6, 14], [6, 34], [7, 0], [7, 18], [7, 26], [8, 0], [8, 5], [8, 12], [8, 19], [8, 39], [9, 0], [9, 9], [9, 36], [10, 0], [10, 1], [10, 9], [11, 9], [11, 24], [11, 32], [12, 0], [12, 9], [13, 0], [13, 8], [13, 12], [14, 0], [14, 27], [15, 0], [15, 3], [15, 15], [15, 37]]\n"
     ]
    },
    {
     "data": {
      "application/vnd.jupyter.widget-view+json": {
       "model_id": "afb955e37967400e8770f0e8da0fee13",
       "version_major": 2,
       "version_minor": 0
      },
      "text/plain": [
       "HBox(children=(FloatProgress(value=1.0, bar_style='info', max=1.0), HTML(value='')))"
      ]
     },
     "metadata": {},
     "output_type": "display_data"
    },
    {
     "name": "stdout",
     "output_type": "stream",
     "text": [
      "\n",
      "Errors:  [[0, 0], [0, 5], [0, 22], [0, 26], [1, 0], [1, 3], [1, 9], [1, 13], [1, 17], [1, 18], [1, 21], [1, 23], [1, 24], [1, 27], [1, 30], [1, 33], [1, 34], [2, 0], [3, 0], [3, 2], [3, 18], [3, 29], [3, 35], [4, 0], [4, 2], [4, 10], [4, 13], [4, 18], [4, 19], [4, 25], [4, 28], [5, 0], [5, 2], [5, 3], [5, 21], [5, 33], [5, 35], [6, 0], [6, 14], [6, 34], [7, 0], [7, 18], [7, 26], [8, 0], [8, 5], [8, 12], [8, 19], [8, 39], [9, 0], [9, 9], [9, 36], [10, 0], [10, 1], [10, 9], [11, 9], [11, 24], [11, 32], [12, 0], [12, 9], [13, 0], [13, 8], [13, 12], [14, 0], [14, 27], [15, 0], [15, 3], [15, 15], [15, 37], [16, 0], [16, 2], [16, 17], [16, 27]]\n"
     ]
    },
    {
     "data": {
      "application/vnd.jupyter.widget-view+json": {
       "model_id": "4b594e5355bc446abf30cf8f73431e75",
       "version_major": 2,
       "version_minor": 0
      },
      "text/plain": [
       "HBox(children=(FloatProgress(value=1.0, bar_style='info', max=1.0), HTML(value='')))"
      ]
     },
     "metadata": {},
     "output_type": "display_data"
    },
    {
     "name": "stdout",
     "output_type": "stream",
     "text": [
      "\n",
      "Errors:  [[0, 0], [0, 5], [0, 22], [0, 26], [1, 0], [1, 3], [1, 9], [1, 13], [1, 17], [1, 18], [1, 21], [1, 23], [1, 24], [1, 27], [1, 30], [1, 33], [1, 34], [2, 0], [3, 0], [3, 2], [3, 18], [3, 29], [3, 35], [4, 0], [4, 2], [4, 10], [4, 13], [4, 18], [4, 19], [4, 25], [4, 28], [5, 0], [5, 2], [5, 3], [5, 21], [5, 33], [5, 35], [6, 0], [6, 14], [6, 34], [7, 0], [7, 18], [7, 26], [8, 0], [8, 5], [8, 12], [8, 19], [8, 39], [9, 0], [9, 9], [9, 36], [10, 0], [10, 1], [10, 9], [11, 9], [11, 24], [11, 32], [12, 0], [12, 9], [13, 0], [13, 8], [13, 12], [14, 0], [14, 27], [15, 0], [15, 3], [15, 15], [15, 37], [16, 0], [16, 2], [16, 17], [16, 27], [17, 0], [17, 16], [17, 29], [17, 33], [17, 35]]\n"
     ]
    },
    {
     "data": {
      "application/vnd.jupyter.widget-view+json": {
       "model_id": "f923e9c010da4601988b6692f2144e44",
       "version_major": 2,
       "version_minor": 0
      },
      "text/plain": [
       "HBox(children=(FloatProgress(value=1.0, bar_style='info', max=1.0), HTML(value='')))"
      ]
     },
     "metadata": {},
     "output_type": "display_data"
    },
    {
     "name": "stdout",
     "output_type": "stream",
     "text": [
      "\n",
      "Errors:  [[0, 0], [0, 5], [0, 22], [0, 26], [1, 0], [1, 3], [1, 9], [1, 13], [1, 17], [1, 18], [1, 21], [1, 23], [1, 24], [1, 27], [1, 30], [1, 33], [1, 34], [2, 0], [3, 0], [3, 2], [3, 18], [3, 29], [3, 35], [4, 0], [4, 2], [4, 10], [4, 13], [4, 18], [4, 19], [4, 25], [4, 28], [5, 0], [5, 2], [5, 3], [5, 21], [5, 33], [5, 35], [6, 0], [6, 14], [6, 34], [7, 0], [7, 18], [7, 26], [8, 0], [8, 5], [8, 12], [8, 19], [8, 39], [9, 0], [9, 9], [9, 36], [10, 0], [10, 1], [10, 9], [11, 9], [11, 24], [11, 32], [12, 0], [12, 9], [13, 0], [13, 8], [13, 12], [14, 0], [14, 27], [15, 0], [15, 3], [15, 15], [15, 37], [16, 0], [16, 2], [16, 17], [16, 27], [17, 0], [17, 16], [17, 29], [17, 33], [17, 35], [18, 0], [18, 2], [18, 4], [18, 9], [18, 13], [18, 19], [18, 20], [18, 33], [18, 35]]\n"
     ]
    },
    {
     "data": {
      "application/vnd.jupyter.widget-view+json": {
       "model_id": "a65bdd7866e043c8b8c177a6d1e36cae",
       "version_major": 2,
       "version_minor": 0
      },
      "text/plain": [
       "HBox(children=(FloatProgress(value=1.0, bar_style='info', max=1.0), HTML(value='')))"
      ]
     },
     "metadata": {},
     "output_type": "display_data"
    },
    {
     "name": "stdout",
     "output_type": "stream",
     "text": [
      "\n",
      "Errors:  [[0, 0], [0, 5], [0, 22], [0, 26], [1, 0], [1, 3], [1, 9], [1, 13], [1, 17], [1, 18], [1, 21], [1, 23], [1, 24], [1, 27], [1, 30], [1, 33], [1, 34], [2, 0], [3, 0], [3, 2], [3, 18], [3, 29], [3, 35], [4, 0], [4, 2], [4, 10], [4, 13], [4, 18], [4, 19], [4, 25], [4, 28], [5, 0], [5, 2], [5, 3], [5, 21], [5, 33], [5, 35], [6, 0], [6, 14], [6, 34], [7, 0], [7, 18], [7, 26], [8, 0], [8, 5], [8, 12], [8, 19], [8, 39], [9, 0], [9, 9], [9, 36], [10, 0], [10, 1], [10, 9], [11, 9], [11, 24], [11, 32], [12, 0], [12, 9], [13, 0], [13, 8], [13, 12], [14, 0], [14, 27], [15, 0], [15, 3], [15, 15], [15, 37], [16, 0], [16, 2], [16, 17], [16, 27], [17, 0], [17, 16], [17, 29], [17, 33], [17, 35], [18, 0], [18, 2], [18, 4], [18, 9], [18, 13], [18, 19], [18, 20], [18, 33], [18, 35], [19, 0], [19, 2], [19, 3], [19, 5], [19, 6], [19, 13]]\n"
     ]
    },
    {
     "data": {
      "application/vnd.jupyter.widget-view+json": {
       "model_id": "3cbc964d85894f8bac3f6df66bd53899",
       "version_major": 2,
       "version_minor": 0
      },
      "text/plain": [
       "HBox(children=(FloatProgress(value=1.0, bar_style='info', max=1.0), HTML(value='')))"
      ]
     },
     "metadata": {},
     "output_type": "display_data"
    },
    {
     "name": "stdout",
     "output_type": "stream",
     "text": [
      "\n",
      "Errors:  [[0, 0], [0, 5], [0, 22], [0, 26], [1, 0], [1, 3], [1, 9], [1, 13], [1, 17], [1, 18], [1, 21], [1, 23], [1, 24], [1, 27], [1, 30], [1, 33], [1, 34], [2, 0], [3, 0], [3, 2], [3, 18], [3, 29], [3, 35], [4, 0], [4, 2], [4, 10], [4, 13], [4, 18], [4, 19], [4, 25], [4, 28], [5, 0], [5, 2], [5, 3], [5, 21], [5, 33], [5, 35], [6, 0], [6, 14], [6, 34], [7, 0], [7, 18], [7, 26], [8, 0], [8, 5], [8, 12], [8, 19], [8, 39], [9, 0], [9, 9], [9, 36], [10, 0], [10, 1], [10, 9], [11, 9], [11, 24], [11, 32], [12, 0], [12, 9], [13, 0], [13, 8], [13, 12], [14, 0], [14, 27], [15, 0], [15, 3], [15, 15], [15, 37], [16, 0], [16, 2], [16, 17], [16, 27], [17, 0], [17, 16], [17, 29], [17, 33], [17, 35], [18, 0], [18, 2], [18, 4], [18, 9], [18, 13], [18, 19], [18, 20], [18, 33], [18, 35], [19, 0], [19, 2], [19, 3], [19, 5], [19, 6], [19, 13], [20, 18], [20, 26]]\n"
     ]
    },
    {
     "data": {
      "application/vnd.jupyter.widget-view+json": {
       "model_id": "88e292ba930a4d87bf21f2cc3b58cd81",
       "version_major": 2,
       "version_minor": 0
      },
      "text/plain": [
       "HBox(children=(FloatProgress(value=1.0, bar_style='info', max=1.0), HTML(value='')))"
      ]
     },
     "metadata": {},
     "output_type": "display_data"
    },
    {
     "name": "stdout",
     "output_type": "stream",
     "text": [
      "\n",
      "Errors:  [[0, 0], [0, 5], [0, 22], [0, 26], [1, 0], [1, 3], [1, 9], [1, 13], [1, 17], [1, 18], [1, 21], [1, 23], [1, 24], [1, 27], [1, 30], [1, 33], [1, 34], [2, 0], [3, 0], [3, 2], [3, 18], [3, 29], [3, 35], [4, 0], [4, 2], [4, 10], [4, 13], [4, 18], [4, 19], [4, 25], [4, 28], [5, 0], [5, 2], [5, 3], [5, 21], [5, 33], [5, 35], [6, 0], [6, 14], [6, 34], [7, 0], [7, 18], [7, 26], [8, 0], [8, 5], [8, 12], [8, 19], [8, 39], [9, 0], [9, 9], [9, 36], [10, 0], [10, 1], [10, 9], [11, 9], [11, 24], [11, 32], [12, 0], [12, 9], [13, 0], [13, 8], [13, 12], [14, 0], [14, 27], [15, 0], [15, 3], [15, 15], [15, 37], [16, 0], [16, 2], [16, 17], [16, 27], [17, 0], [17, 16], [17, 29], [17, 33], [17, 35], [18, 0], [18, 2], [18, 4], [18, 9], [18, 13], [18, 19], [18, 20], [18, 33], [18, 35], [19, 0], [19, 2], [19, 3], [19, 5], [19, 6], [19, 13], [20, 18], [20, 26], [21, 0], [21, 28]]\n"
     ]
    },
    {
     "data": {
      "application/vnd.jupyter.widget-view+json": {
       "model_id": "dbc92f6615af4ca09bb536c9bdfc2bdc",
       "version_major": 2,
       "version_minor": 0
      },
      "text/plain": [
       "HBox(children=(FloatProgress(value=1.0, bar_style='info', max=1.0), HTML(value='')))"
      ]
     },
     "metadata": {},
     "output_type": "display_data"
    },
    {
     "name": "stdout",
     "output_type": "stream",
     "text": [
      "\n",
      "Errors:  [[0, 0], [0, 5], [0, 22], [0, 26], [1, 0], [1, 3], [1, 9], [1, 13], [1, 17], [1, 18], [1, 21], [1, 23], [1, 24], [1, 27], [1, 30], [1, 33], [1, 34], [2, 0], [3, 0], [3, 2], [3, 18], [3, 29], [3, 35], [4, 0], [4, 2], [4, 10], [4, 13], [4, 18], [4, 19], [4, 25], [4, 28], [5, 0], [5, 2], [5, 3], [5, 21], [5, 33], [5, 35], [6, 0], [6, 14], [6, 34], [7, 0], [7, 18], [7, 26], [8, 0], [8, 5], [8, 12], [8, 19], [8, 39], [9, 0], [9, 9], [9, 36], [10, 0], [10, 1], [10, 9], [11, 9], [11, 24], [11, 32], [12, 0], [12, 9], [13, 0], [13, 8], [13, 12], [14, 0], [14, 27], [15, 0], [15, 3], [15, 15], [15, 37], [16, 0], [16, 2], [16, 17], [16, 27], [17, 0], [17, 16], [17, 29], [17, 33], [17, 35], [18, 0], [18, 2], [18, 4], [18, 9], [18, 13], [18, 19], [18, 20], [18, 33], [18, 35], [19, 0], [19, 2], [19, 3], [19, 5], [19, 6], [19, 13], [20, 18], [20, 26], [21, 0], [21, 28], [22, 0], [22, 10], [22, 26]]\n"
     ]
    },
    {
     "data": {
      "application/vnd.jupyter.widget-view+json": {
       "model_id": "6cd2679c61714f3191e94168da092bb3",
       "version_major": 2,
       "version_minor": 0
      },
      "text/plain": [
       "HBox(children=(FloatProgress(value=1.0, bar_style='info', max=1.0), HTML(value='')))"
      ]
     },
     "metadata": {},
     "output_type": "display_data"
    },
    {
     "name": "stdout",
     "output_type": "stream",
     "text": [
      "\n",
      "Errors:  [[0, 0], [0, 5], [0, 22], [0, 26], [1, 0], [1, 3], [1, 9], [1, 13], [1, 17], [1, 18], [1, 21], [1, 23], [1, 24], [1, 27], [1, 30], [1, 33], [1, 34], [2, 0], [3, 0], [3, 2], [3, 18], [3, 29], [3, 35], [4, 0], [4, 2], [4, 10], [4, 13], [4, 18], [4, 19], [4, 25], [4, 28], [5, 0], [5, 2], [5, 3], [5, 21], [5, 33], [5, 35], [6, 0], [6, 14], [6, 34], [7, 0], [7, 18], [7, 26], [8, 0], [8, 5], [8, 12], [8, 19], [8, 39], [9, 0], [9, 9], [9, 36], [10, 0], [10, 1], [10, 9], [11, 9], [11, 24], [11, 32], [12, 0], [12, 9], [13, 0], [13, 8], [13, 12], [14, 0], [14, 27], [15, 0], [15, 3], [15, 15], [15, 37], [16, 0], [16, 2], [16, 17], [16, 27], [17, 0], [17, 16], [17, 29], [17, 33], [17, 35], [18, 0], [18, 2], [18, 4], [18, 9], [18, 13], [18, 19], [18, 20], [18, 33], [18, 35], [19, 0], [19, 2], [19, 3], [19, 5], [19, 6], [19, 13], [20, 18], [20, 26], [21, 0], [21, 28], [22, 0], [22, 10], [22, 26], [23, 9], [23, 14], [23, 17], [23, 18], [23, 23], [23, 24], [23, 32]]\n"
     ]
    },
    {
     "data": {
      "application/vnd.jupyter.widget-view+json": {
       "model_id": "c3e723ee89d946bc99be2d3dbeb065ec",
       "version_major": 2,
       "version_minor": 0
      },
      "text/plain": [
       "HBox(children=(FloatProgress(value=1.0, bar_style='info', max=1.0), HTML(value='')))"
      ]
     },
     "metadata": {},
     "output_type": "display_data"
    },
    {
     "name": "stdout",
     "output_type": "stream",
     "text": [
      "\n",
      "Errors:  [[0, 0], [0, 5], [0, 22], [0, 26], [1, 0], [1, 3], [1, 9], [1, 13], [1, 17], [1, 18], [1, 21], [1, 23], [1, 24], [1, 27], [1, 30], [1, 33], [1, 34], [2, 0], [3, 0], [3, 2], [3, 18], [3, 29], [3, 35], [4, 0], [4, 2], [4, 10], [4, 13], [4, 18], [4, 19], [4, 25], [4, 28], [5, 0], [5, 2], [5, 3], [5, 21], [5, 33], [5, 35], [6, 0], [6, 14], [6, 34], [7, 0], [7, 18], [7, 26], [8, 0], [8, 5], [8, 12], [8, 19], [8, 39], [9, 0], [9, 9], [9, 36], [10, 0], [10, 1], [10, 9], [11, 9], [11, 24], [11, 32], [12, 0], [12, 9], [13, 0], [13, 8], [13, 12], [14, 0], [14, 27], [15, 0], [15, 3], [15, 15], [15, 37], [16, 0], [16, 2], [16, 17], [16, 27], [17, 0], [17, 16], [17, 29], [17, 33], [17, 35], [18, 0], [18, 2], [18, 4], [18, 9], [18, 13], [18, 19], [18, 20], [18, 33], [18, 35], [19, 0], [19, 2], [19, 3], [19, 5], [19, 6], [19, 13], [20, 18], [20, 26], [21, 0], [21, 28], [22, 0], [22, 10], [22, 26], [23, 9], [23, 14], [23, 17], [23, 18], [23, 23], [23, 24], [23, 32], [24, 27]]\n"
     ]
    },
    {
     "data": {
      "application/vnd.jupyter.widget-view+json": {
       "model_id": "54cf252406924594a805bce122f9cb50",
       "version_major": 2,
       "version_minor": 0
      },
      "text/plain": [
       "HBox(children=(FloatProgress(value=1.0, bar_style='info', max=1.0), HTML(value='')))"
      ]
     },
     "metadata": {},
     "output_type": "display_data"
    },
    {
     "name": "stdout",
     "output_type": "stream",
     "text": [
      "\n",
      "Errors:  [[0, 0], [0, 5], [0, 22], [0, 26], [1, 0], [1, 3], [1, 9], [1, 13], [1, 17], [1, 18], [1, 21], [1, 23], [1, 24], [1, 27], [1, 30], [1, 33], [1, 34], [2, 0], [3, 0], [3, 2], [3, 18], [3, 29], [3, 35], [4, 0], [4, 2], [4, 10], [4, 13], [4, 18], [4, 19], [4, 25], [4, 28], [5, 0], [5, 2], [5, 3], [5, 21], [5, 33], [5, 35], [6, 0], [6, 14], [6, 34], [7, 0], [7, 18], [7, 26], [8, 0], [8, 5], [8, 12], [8, 19], [8, 39], [9, 0], [9, 9], [9, 36], [10, 0], [10, 1], [10, 9], [11, 9], [11, 24], [11, 32], [12, 0], [12, 9], [13, 0], [13, 8], [13, 12], [14, 0], [14, 27], [15, 0], [15, 3], [15, 15], [15, 37], [16, 0], [16, 2], [16, 17], [16, 27], [17, 0], [17, 16], [17, 29], [17, 33], [17, 35], [18, 0], [18, 2], [18, 4], [18, 9], [18, 13], [18, 19], [18, 20], [18, 33], [18, 35], [19, 0], [19, 2], [19, 3], [19, 5], [19, 6], [19, 13], [20, 18], [20, 26], [21, 0], [21, 28], [22, 0], [22, 10], [22, 26], [23, 9], [23, 14], [23, 17], [23, 18], [23, 23], [23, 24], [23, 32], [24, 27], [25, 0], [25, 1], [25, 33]]\n"
     ]
    },
    {
     "data": {
      "application/vnd.jupyter.widget-view+json": {
       "model_id": "f2d8905f99974fd2989ff2b169ccd6b0",
       "version_major": 2,
       "version_minor": 0
      },
      "text/plain": [
       "HBox(children=(FloatProgress(value=1.0, bar_style='info', max=1.0), HTML(value='')))"
      ]
     },
     "metadata": {},
     "output_type": "display_data"
    },
    {
     "name": "stdout",
     "output_type": "stream",
     "text": [
      "\n",
      "Errors:  [[0, 0], [0, 5], [0, 22], [0, 26], [1, 0], [1, 3], [1, 9], [1, 13], [1, 17], [1, 18], [1, 21], [1, 23], [1, 24], [1, 27], [1, 30], [1, 33], [1, 34], [2, 0], [3, 0], [3, 2], [3, 18], [3, 29], [3, 35], [4, 0], [4, 2], [4, 10], [4, 13], [4, 18], [4, 19], [4, 25], [4, 28], [5, 0], [5, 2], [5, 3], [5, 21], [5, 33], [5, 35], [6, 0], [6, 14], [6, 34], [7, 0], [7, 18], [7, 26], [8, 0], [8, 5], [8, 12], [8, 19], [8, 39], [9, 0], [9, 9], [9, 36], [10, 0], [10, 1], [10, 9], [11, 9], [11, 24], [11, 32], [12, 0], [12, 9], [13, 0], [13, 8], [13, 12], [14, 0], [14, 27], [15, 0], [15, 3], [15, 15], [15, 37], [16, 0], [16, 2], [16, 17], [16, 27], [17, 0], [17, 16], [17, 29], [17, 33], [17, 35], [18, 0], [18, 2], [18, 4], [18, 9], [18, 13], [18, 19], [18, 20], [18, 33], [18, 35], [19, 0], [19, 2], [19, 3], [19, 5], [19, 6], [19, 13], [20, 18], [20, 26], [21, 0], [21, 28], [22, 0], [22, 10], [22, 26], [23, 9], [23, 14], [23, 17], [23, 18], [23, 23], [23, 24], [23, 32], [24, 27], [25, 0], [25, 1], [25, 33], [26, 4], [26, 10], [26, 15], [26, 18], [26, 21]]\n"
     ]
    },
    {
     "data": {
      "application/vnd.jupyter.widget-view+json": {
       "model_id": "e017ffc9b2ef47deb0477d2c55fedfa5",
       "version_major": 2,
       "version_minor": 0
      },
      "text/plain": [
       "HBox(children=(FloatProgress(value=1.0, bar_style='info', max=1.0), HTML(value='')))"
      ]
     },
     "metadata": {},
     "output_type": "display_data"
    },
    {
     "name": "stdout",
     "output_type": "stream",
     "text": [
      "\n",
      "Errors:  [[0, 0], [0, 5], [0, 22], [0, 26], [1, 0], [1, 3], [1, 9], [1, 13], [1, 17], [1, 18], [1, 21], [1, 23], [1, 24], [1, 27], [1, 30], [1, 33], [1, 34], [2, 0], [3, 0], [3, 2], [3, 18], [3, 29], [3, 35], [4, 0], [4, 2], [4, 10], [4, 13], [4, 18], [4, 19], [4, 25], [4, 28], [5, 0], [5, 2], [5, 3], [5, 21], [5, 33], [5, 35], [6, 0], [6, 14], [6, 34], [7, 0], [7, 18], [7, 26], [8, 0], [8, 5], [8, 12], [8, 19], [8, 39], [9, 0], [9, 9], [9, 36], [10, 0], [10, 1], [10, 9], [11, 9], [11, 24], [11, 32], [12, 0], [12, 9], [13, 0], [13, 8], [13, 12], [14, 0], [14, 27], [15, 0], [15, 3], [15, 15], [15, 37], [16, 0], [16, 2], [16, 17], [16, 27], [17, 0], [17, 16], [17, 29], [17, 33], [17, 35], [18, 0], [18, 2], [18, 4], [18, 9], [18, 13], [18, 19], [18, 20], [18, 33], [18, 35], [19, 0], [19, 2], [19, 3], [19, 5], [19, 6], [19, 13], [20, 18], [20, 26], [21, 0], [21, 28], [22, 0], [22, 10], [22, 26], [23, 9], [23, 14], [23, 17], [23, 18], [23, 23], [23, 24], [23, 32], [24, 27], [25, 0], [25, 1], [25, 33], [26, 4], [26, 10], [26, 15], [26, 18], [26, 21], [27, 10], [27, 22]]\n"
     ]
    },
    {
     "data": {
      "application/vnd.jupyter.widget-view+json": {
       "model_id": "251fac38e2f7431ba4b150ebc9044d50",
       "version_major": 2,
       "version_minor": 0
      },
      "text/plain": [
       "HBox(children=(FloatProgress(value=1.0, bar_style='info', max=1.0), HTML(value='')))"
      ]
     },
     "metadata": {},
     "output_type": "display_data"
    },
    {
     "name": "stdout",
     "output_type": "stream",
     "text": [
      "\n",
      "Errors:  [[0, 0], [0, 5], [0, 22], [0, 26], [1, 0], [1, 3], [1, 9], [1, 13], [1, 17], [1, 18], [1, 21], [1, 23], [1, 24], [1, 27], [1, 30], [1, 33], [1, 34], [2, 0], [3, 0], [3, 2], [3, 18], [3, 29], [3, 35], [4, 0], [4, 2], [4, 10], [4, 13], [4, 18], [4, 19], [4, 25], [4, 28], [5, 0], [5, 2], [5, 3], [5, 21], [5, 33], [5, 35], [6, 0], [6, 14], [6, 34], [7, 0], [7, 18], [7, 26], [8, 0], [8, 5], [8, 12], [8, 19], [8, 39], [9, 0], [9, 9], [9, 36], [10, 0], [10, 1], [10, 9], [11, 9], [11, 24], [11, 32], [12, 0], [12, 9], [13, 0], [13, 8], [13, 12], [14, 0], [14, 27], [15, 0], [15, 3], [15, 15], [15, 37], [16, 0], [16, 2], [16, 17], [16, 27], [17, 0], [17, 16], [17, 29], [17, 33], [17, 35], [18, 0], [18, 2], [18, 4], [18, 9], [18, 13], [18, 19], [18, 20], [18, 33], [18, 35], [19, 0], [19, 2], [19, 3], [19, 5], [19, 6], [19, 13], [20, 18], [20, 26], [21, 0], [21, 28], [22, 0], [22, 10], [22, 26], [23, 9], [23, 14], [23, 17], [23, 18], [23, 23], [23, 24], [23, 32], [24, 27], [25, 0], [25, 1], [25, 33], [26, 4], [26, 10], [26, 15], [26, 18], [26, 21], [27, 10], [27, 22], [28, 0], [28, 14], [28, 22], [28, 23], [28, 25], [28, 29], [28, 32]]\n"
     ]
    },
    {
     "data": {
      "application/vnd.jupyter.widget-view+json": {
       "model_id": "eb99c54da5374966b31e56f2d550782e",
       "version_major": 2,
       "version_minor": 0
      },
      "text/plain": [
       "HBox(children=(FloatProgress(value=1.0, bar_style='info', max=1.0), HTML(value='')))"
      ]
     },
     "metadata": {},
     "output_type": "display_data"
    },
    {
     "name": "stdout",
     "output_type": "stream",
     "text": [
      "\n",
      "Errors:  [[0, 0], [0, 5], [0, 22], [0, 26], [1, 0], [1, 3], [1, 9], [1, 13], [1, 17], [1, 18], [1, 21], [1, 23], [1, 24], [1, 27], [1, 30], [1, 33], [1, 34], [2, 0], [3, 0], [3, 2], [3, 18], [3, 29], [3, 35], [4, 0], [4, 2], [4, 10], [4, 13], [4, 18], [4, 19], [4, 25], [4, 28], [5, 0], [5, 2], [5, 3], [5, 21], [5, 33], [5, 35], [6, 0], [6, 14], [6, 34], [7, 0], [7, 18], [7, 26], [8, 0], [8, 5], [8, 12], [8, 19], [8, 39], [9, 0], [9, 9], [9, 36], [10, 0], [10, 1], [10, 9], [11, 9], [11, 24], [11, 32], [12, 0], [12, 9], [13, 0], [13, 8], [13, 12], [14, 0], [14, 27], [15, 0], [15, 3], [15, 15], [15, 37], [16, 0], [16, 2], [16, 17], [16, 27], [17, 0], [17, 16], [17, 29], [17, 33], [17, 35], [18, 0], [18, 2], [18, 4], [18, 9], [18, 13], [18, 19], [18, 20], [18, 33], [18, 35], [19, 0], [19, 2], [19, 3], [19, 5], [19, 6], [19, 13], [20, 18], [20, 26], [21, 0], [21, 28], [22, 0], [22, 10], [22, 26], [23, 9], [23, 14], [23, 17], [23, 18], [23, 23], [23, 24], [23, 32], [24, 27], [25, 0], [25, 1], [25, 33], [26, 4], [26, 10], [26, 15], [26, 18], [26, 21], [27, 10], [27, 22], [28, 0], [28, 14], [28, 22], [28, 23], [28, 25], [28, 29], [28, 32], [29, 0], [29, 19], [29, 22], [29, 32], [29, 33]]\n"
     ]
    },
    {
     "data": {
      "application/vnd.jupyter.widget-view+json": {
       "model_id": "5714d945a2804471bef16c2f732f0af3",
       "version_major": 2,
       "version_minor": 0
      },
      "text/plain": [
       "HBox(children=(FloatProgress(value=1.0, bar_style='info', max=1.0), HTML(value='')))"
      ]
     },
     "metadata": {},
     "output_type": "display_data"
    },
    {
     "name": "stdout",
     "output_type": "stream",
     "text": [
      "\n",
      "Errors:  [[0, 0], [0, 5], [0, 22], [0, 26], [1, 0], [1, 3], [1, 9], [1, 13], [1, 17], [1, 18], [1, 21], [1, 23], [1, 24], [1, 27], [1, 30], [1, 33], [1, 34], [2, 0], [3, 0], [3, 2], [3, 18], [3, 29], [3, 35], [4, 0], [4, 2], [4, 10], [4, 13], [4, 18], [4, 19], [4, 25], [4, 28], [5, 0], [5, 2], [5, 3], [5, 21], [5, 33], [5, 35], [6, 0], [6, 14], [6, 34], [7, 0], [7, 18], [7, 26], [8, 0], [8, 5], [8, 12], [8, 19], [8, 39], [9, 0], [9, 9], [9, 36], [10, 0], [10, 1], [10, 9], [11, 9], [11, 24], [11, 32], [12, 0], [12, 9], [13, 0], [13, 8], [13, 12], [14, 0], [14, 27], [15, 0], [15, 3], [15, 15], [15, 37], [16, 0], [16, 2], [16, 17], [16, 27], [17, 0], [17, 16], [17, 29], [17, 33], [17, 35], [18, 0], [18, 2], [18, 4], [18, 9], [18, 13], [18, 19], [18, 20], [18, 33], [18, 35], [19, 0], [19, 2], [19, 3], [19, 5], [19, 6], [19, 13], [20, 18], [20, 26], [21, 0], [21, 28], [22, 0], [22, 10], [22, 26], [23, 9], [23, 14], [23, 17], [23, 18], [23, 23], [23, 24], [23, 32], [24, 27], [25, 0], [25, 1], [25, 33], [26, 4], [26, 10], [26, 15], [26, 18], [26, 21], [27, 10], [27, 22], [28, 0], [28, 14], [28, 22], [28, 23], [28, 25], [28, 29], [28, 32], [29, 0], [29, 19], [29, 22], [29, 32], [29, 33], [30, 5], [30, 15], [30, 21], [30, 30], [30, 35]]\n",
      "\n"
     ]
    }
   ],
   "source": [
    "import warnings\n",
    "warnings.simplefilter('ignore')\n",
    "\n",
    "soln_arr = np.zeros((Q_arr.size, V_rel_arr.size, rs_vec.size, 6))\n",
    "\n",
    "error_arr = []\n",
    "\n",
    "for i,Q in enumerate(tqdm(Q_arr)):\n",
    "    \n",
    "     # Initial conditions are T_CMB - T_b, T_b - T_m, log(T_C), log(V_bm), log(V_cb), xe\n",
    "#     init_cond = [1e-5, 1e-5, np.log(1e-6), np.log(1e-16), np.log(1e-16), 1.] \n",
    "    init_cond = np.array([[1e-5, 1e-5, np.log(1e-6), np.log(1e-16), np.log(V_rel), 1.] for V_rel in V_rel_arr])\n",
    "    \n",
    "    # List of parameters that need to be passed. \n",
    "    params = zip(\n",
    "        m_m*np.ones_like(V_rel_arr) , m_C*np.ones_like(V_rel_arr),\n",
    "        f*np.ones_like(V_rel_arr)   , Q*np.ones_like(V_rel_arr),\n",
    "        1e-4*np.ones_like(V_rel_arr), np.inf*np.ones_like(V_rel_arr),\n",
    "        init_cond\n",
    "    )\n",
    "    \n",
    "    \n",
    "    # Parallelization.\n",
    "    pool = Pool(V_rel_arr.size)\n",
    "    \n",
    "    soln_raw_arr = list(tqdm(pool.imap(solve_ODE, params)))\n",
    "    \n",
    "    for j,soln_raw in enumerate(soln_raw_arr): \n",
    "    \n",
    "        if soln_raw:\n",
    "\n",
    "            soln = np.transpose(soln_raw['y'])\n",
    "            \n",
    "            soln_arr[i,j] = soln\n",
    "\n",
    "            # Convert to (T_b, T_m, T_C, V_bm, V_mC)\n",
    "            soln_arr[i,j,:,0] = phys.TCMB(rs_vec) - soln_arr[i,j,:,0]\n",
    "            soln_arr[i,j,:,1] = soln_arr[i,j,:,0] - soln_arr[i,j,:,1]\n",
    "            soln_arr[i,j,:,2] = np.exp(soln_arr[i,j,:,2])\n",
    "            soln_arr[i,j,:,3] = np.exp(soln_arr[i,j,:,3])\n",
    "            soln_arr[i,j,:,4] = np.exp(soln_arr[i,j,:,4])\n",
    "\n",
    "        else:\n",
    "        \n",
    "            # False was returned, and the solution failed. Append the index\n",
    "            # to error_arr.\n",
    "            error_arr.append([i,j])\n",
    "            \n",
    "    print('Errors: ', error_arr)\n",
    "        \n"
   ]
  },
  {
   "cell_type": "code",
   "execution_count": 11,
   "metadata": {},
   "outputs": [],
   "source": [
    "# pickle.dump((soln_arr, error_arr), open('/tigress/hongwanl/millicharged_DM_with_bath/data_Vrel_m_m_3e8.p','wb'))\n",
    "\n",
    "soln_arr, error_arr = pickle.load(open('/tigress/hongwanl/millicharged_DM_with_bath/data_Vrel_m_m_3e8.p','rb'))\n"
   ]
  },
  {
   "cell_type": "markdown",
   "metadata": {},
   "source": [
    "# Handling Problematic Points"
   ]
  },
  {
   "cell_type": "code",
   "execution_count": 31,
   "metadata": {},
   "outputs": [
    {
     "name": "stdout",
     "output_type": "stream",
     "text": [
      "Number of problematic points:  2\n"
     ]
    },
    {
     "data": {
      "application/vnd.jupyter.widget-view+json": {
       "model_id": "60ae77fbe83d459ab07009c5c8448f61",
       "version_major": 2,
       "version_minor": 0
      },
      "text/plain": [
       "HBox(children=(FloatProgress(value=0.0, max=1.0), HTML(value='')))"
      ]
     },
     "metadata": {},
     "output_type": "display_data"
    },
    {
     "data": {
      "application/vnd.jupyter.widget-view+json": {
       "model_id": "c5075f1a41b64127bdf55abc1afcd79d",
       "version_major": 2,
       "version_minor": 0
      },
      "text/plain": [
       "HBox(children=(FloatProgress(value=1.0, bar_style='info', max=1.0), HTML(value='')))"
      ]
     },
     "metadata": {},
     "output_type": "display_data"
    },
    {
     "name": "stdout",
     "output_type": "stream",
     "text": [
      "\n",
      "Solved: [ 12 ,  0 ]\n",
      "Solved: [ 18 ,  0 ]\n",
      "\n",
      "[]\n"
     ]
    }
   ],
   "source": [
    "import warnings\n",
    "warnings.simplefilter('ignore')\n",
    "\n",
    "\n",
    "print('Number of problematic points: ', len(error_arr))\n",
    "\n",
    "# Pull the list of Q and V_rel that need to be iterated over from error_arr.\n",
    "Q_err_arr     = np.array([Q_arr[pt[0]] for pt in error_arr])\n",
    "V_rel_err_arr = np.array([V_rel_arr[pt[1]] for pt in error_arr])\n",
    "\n",
    "\n",
    "# Keeps track of which points become solved after running this cell.\n",
    "solved_arr  = [False for _ in error_arr]\n",
    "\n",
    "# Strategies: adjust step-size, initial conditions\n",
    "\n",
    "# New set of parameters for solution, pulled from the indices of error_arr. \n",
    "# Added helper indices in front to be accessed later.\n",
    "params_full = np.transpose([\n",
    "    np.arange(len(error_arr)),\n",
    "    [err_ind[0] for err_ind in error_arr],\n",
    "    [err_ind[1] for err_ind in error_arr],\n",
    "    m_m*np.ones_like(Q_err_arr)   , m_C*np.ones_like(Q_err_arr),\n",
    "    f*np.ones_like(Q_err_arr)     , Q_err_arr,\n",
    "    8e-5*np.ones_like(Q_err_arr)  , np.inf*np.ones_like(Q_err_arr),\n",
    "    V_rel_err_arr\n",
    "])\n",
    "\n",
    "# Split the parameters into chunks that can be fed into each thread. \n",
    "# There are V_rel_arr.size threads.\n",
    "param_chunks = np.array_split(params_full, V_rel_err_arr.size//V_rel_arr.size + 1)\n",
    "\n",
    "for params in tqdm(param_chunks):\n",
    "    \n",
    "    # Parallelization.\n",
    "    pool = Pool(Q_arr.size)\n",
    "    \n",
    "    # Initial conditions are T_CMB - T_b, T_b - T_m, log(T_C), log(V_bm), log(V_cb), xe\n",
    "    # init_cond = [2e-2, 2e-2, np.log(3e-4), np.log(1e-16), np.log(1e-16), 1.] \n",
    "    init_cond_arr = np.array([[2e-3, 2e-3, np.log(1e-5), np.log(1e-16), np.log(V_rel), 1.] for V_rel in params[:,-1]])\n",
    "\n",
    "    params_diff_eq = zip(\n",
    "        m_m*np.ones_like(params[:,-1]) , m_C*np.ones_like(params[:,-1]),\n",
    "        f*np.ones_like(params[:,-1])   , params[:,6],\n",
    "        5e-3*np.ones_like(params[:,-1]), np.inf*np.ones_like(params[:,-1]),\n",
    "        init_cond_arr\n",
    "    )\n",
    "\n",
    "    soln_raw_arr = list(tqdm(pool.imap(solve_ODE, params_diff_eq)))\n",
    "\n",
    "    for err_ind,i,j,soln_raw in zip(\n",
    "        params[:,0].astype(int), \n",
    "        params[:,1].astype(int), params[:,2].astype(int), soln_raw_arr\n",
    "    ): \n",
    "\n",
    "        if soln_raw:\n",
    "            # Solution was achieved.\n",
    "\n",
    "            soln = np.transpose(soln_raw['y'])\n",
    "\n",
    "            soln_arr[i,j] = soln\n",
    "\n",
    "            # Convert to (T_b, T_m, T_C, V_bm, V_mC)\n",
    "            soln_arr[i,j,:,0] = phys.TCMB(rs_vec) - soln_arr[i,j,:,0]\n",
    "            soln_arr[i,j,:,1] = soln_arr[i,j,:,0] - soln_arr[i,j,:,1]\n",
    "            soln_arr[i,j,:,2] = np.exp(soln_arr[i,j,:,2])\n",
    "            soln_arr[i,j,:,3] = np.exp(soln_arr[i,j,:,3])\n",
    "            soln_arr[i,j,:,4] = np.exp(soln_arr[i,j,:,4])\n",
    "\n",
    "            print('Solved: [', i, ', ', j, ']')\n",
    "            \n",
    "            # Set the solved_arr at the appropriate index to True.\n",
    "            solved_arr[err_ind] = True\n",
    "\n",
    "# Produce a new error_arr, with entries in solved_arr that are True removed.\n",
    "error_arr = [ind for solved,ind in zip(solved_arr,error_arr) if not solved]\n",
    "\n",
    "print(error_arr)\n",
    "\n",
    "pickle.dump((soln_arr, error_arr), open('/tigress/hongwanl/millicharged_DM_with_bath/data_Vrel_m_m_3e8.p','wb'))\n",
    "\n",
    "# REPEAT THIS CELL AS MANY TIMES AS NECESSARY TO REMOVE ALL PROBLEMATIC POINTS."
   ]
  },
  {
   "cell_type": "markdown",
   "metadata": {},
   "source": [
    "# Make a Plot"
   ]
  },
  {
   "cell_type": "code",
   "execution_count": 47,
   "metadata": {},
   "outputs": [
    {
     "data": {
      "text/plain": [
       "Text(0, 0.5, 'Millicharge $Q$')"
      ]
     },
     "execution_count": 47,
     "metadata": {},
     "output_type": "execute_result"
    },
    {
     "data": {
      "image/png": "[encoded data removed]",
      "text/plain": [
       "<Figure size 620x620 with 2 Axes>"
      ]
     },
     "metadata": {},
     "output_type": "display_data"
    }
   ],
   "source": [
    "soln_arr, error_arr = pickle.load(open('/tigress/hongwanl/millicharged_DM_with_bath/data_Vrel_m_m_3e8.p','rb'))\n",
    "\n",
    "# rs_vec[-9] is 1+z = 18. \n",
    "\n",
    "plt.figure()\n",
    "\n",
    "plt.yscale('log')\n",
    "\n",
    "plt.contourf(V_rel_arr * phys.c / 1e5, Q_arr,  soln_arr[:,:,-9,0] / phys.kB)\n",
    "\n",
    "plt.colorbar(label='Baryon Temperature [K]')\n",
    "\n",
    "plt.xlabel(r'Baryon-mDM Relative Velocity $V_\\mathrm{bm}$ [km/s]')\n",
    "plt.ylabel(r'Millicharge $Q$')\n"
   ]
  },
  {
   "cell_type": "code",
   "execution_count": 37,
   "metadata": {},
   "outputs": [
    {
     "data": {
      "text/plain": [
       "(31, 40, 3990, 6)"
      ]
     },
     "execution_count": 37,
     "metadata": {},
     "output_type": "execute_result"
    }
   ],
   "source": [
    "soln_arr.shape"
   ]
  },
  {
   "cell_type": "code",
   "execution_count": null,
   "metadata": {},
   "outputs": [],
   "source": []
  }
 ],
 "metadata": {
  "kernelspec": {
   "display_name": "Python 3",
   "language": "python",
   "name": "python3"
  },
  "language_info": {
   "codemirror_mode": {
    "name": "ipython",
    "version": 3
   },
   "file_extension": ".py",
   "mimetype": "text/x-python",
   "name": "python",
   "nbconvert_exporter": "python",
   "pygments_lexer": "ipython3",
   "version": "3.7.4"
  }
 },
 "nbformat": 4,
 "nbformat_minor": 4
}
