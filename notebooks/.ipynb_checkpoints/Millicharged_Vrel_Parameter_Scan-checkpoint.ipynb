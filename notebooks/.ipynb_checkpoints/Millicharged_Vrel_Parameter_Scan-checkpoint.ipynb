{
 "cells": [
  {
   "cell_type": "markdown",
   "metadata": {},
   "source": [
    "# Preamble"
   ]
  },
  {
   "cell_type": "code",
   "execution_count": 1,
   "metadata": {},
   "outputs": [],
   "source": [
    "%load_ext autoreload\n",
    "import sys\n",
    "sys.path.append(\"..\")"
   ]
  },
  {
   "cell_type": "code",
   "execution_count": 2,
   "metadata": {},
   "outputs": [],
   "source": [
    "%matplotlib inline"
   ]
  },
  {
   "cell_type": "code",
   "execution_count": 3,
   "metadata": {},
   "outputs": [],
   "source": [
    "%autoreload\n",
    "\n",
    "import matplotlib\n",
    "matplotlib.rc_file('matplotlibrc')\n",
    "import matplotlib.pyplot as plt\n",
    "\n",
    "import numpy as np\n",
    "import pickle\n",
    "\n",
    "from multiprocessing import Pool \n",
    "from scipy.interpolate import interp1d\n",
    "from scipy.integrate import solve_ivp\n",
    "from tqdm.notebook import tqdm as tqdm\n",
    "\n",
    "\n",
    "import integrals as integ\n",
    "import diff_eq_multi_2 as diff_eq\n",
    "import physics as phys\n",
    "\n",
    "# Load the standard solution.\n",
    "a = pickle.load(open('../data/std_soln_He.p','rb'))\n",
    "\n",
    "std_Tm = interp1d(a[0,:], a[1,:])\n",
    "std_xH = interp1d(a[0,:], a[2,:])"
   ]
  },
  {
   "cell_type": "markdown",
   "metadata": {},
   "source": [
    "# Constraints on $Q_\\text{eff}$"
   ]
  },
  {
   "cell_type": "code",
   "execution_count": 4,
   "metadata": {},
   "outputs": [],
   "source": [
    "def max_Q_d_eff(m_m, m_C, f, Q):\n",
    "    '''\n",
    "    Constraints on Q_eff from self-interaction, CMB and tight coupling. Q_eff \n",
    "    is defined by Q_eff^4 = alpha_C*alpha_m / alpha_EM^2\n",
    "    '''\n",
    "    g_em    = np.sqrt(4*np.pi*phys.alpha)\n",
    "    mu_pC   = m_C*phys.mp/(m_C + phys.mp)\n",
    "    f_ratio = 1. + phys.omega_baryon/(f*phys.omega_DM)\n",
    "    \n",
    "    max_SI             = 0.26*(m_C/1e9)**(3/8) * np.sqrt(np.sqrt(4*np.pi)/g_em)\n",
    "    max_CMB            = 1e-3 * np.sqrt(m_C/1e9) * np.sqrt(m_m/1e9) * (1e9/(m_m + m_C))**0.25 * f_ratio**0.25\n",
    "    max_tight_coupling = 0.08 * np.sqrt(Q) * np.sqrt(m_C/1e8) * (1e9/m_m)**0.25\n",
    "    \n",
    "    return np.min((max_SI, max_CMB, max_tight_coupling))"
   ]
  },
  {
   "cell_type": "markdown",
   "metadata": {},
   "source": [
    "# Function for Solving ODE"
   ]
  },
  {
   "cell_type": "code",
   "execution_count": 5,
   "metadata": {},
   "outputs": [],
   "source": [
    " def solve_ODE(params):\n",
    "    '''\n",
    "    Sets up the ODE with parameters given in params. \n",
    "    '''\n",
    "        \n",
    "    _m_m      = params[0]\n",
    "    _m_C      = params[1]\n",
    "    _f        = params[2]\n",
    "    _Q        = params[3]\n",
    "    _rtol     = params[4]\n",
    "    _max_step = params[5]\n",
    "    init_cond = params[6]\n",
    "    \n",
    "    # Fine the maximum Q_d,eff from the input parameters. \n",
    "    _Q_d_eff = max_Q_d_eff(_m_m, _m_C, _f, _Q)\n",
    "\n",
    "    def to_integrate(rs, var):\n",
    "\n",
    "        # Decide whether to include neutrals.\n",
    "        neutral_H  = True\n",
    "        neutral_He = True\n",
    "\n",
    "        # Gets the function that returns all the derivatives. \n",
    "        # Last option here is whether to integrate with log_T_C or not.\n",
    "        return diff_eq.DM_baryon_ODE(\n",
    "            rs, var,\n",
    "            _m_m, _m_C, _Q, _Q_d_eff, neutral_H, neutral_He, _f, True\n",
    "        )\n",
    "\n",
    "    # Number of attempts before giving up. \n",
    "    N_attempts = 0\n",
    "    # Flag to determine if solution was reached.\n",
    "    solved     = False\n",
    "\n",
    "    # List of indices (m_m, Q) where the solution failed. \n",
    "    error_arr = [] \n",
    "\n",
    "    while (not solved) and (N_attempts < 1):\n",
    "        # Keep attempting until solved or we've tried twice. \n",
    "\n",
    "        try:\n",
    "\n",
    "            N_attempts += 1\n",
    "\n",
    "            # Solve using solve_ivp. \n",
    "            soln = solve_ivp(\n",
    "                to_integrate, [rs_vec[0], rs_vec[-1]], init_cond, \n",
    "                method='BDF', t_eval=rs_vec, \n",
    "                rtol=_rtol, max_step=_max_step\n",
    "            )\n",
    "\n",
    "        except:\n",
    "            # solve_ivp returned an error. Adjust the tolerance\n",
    "            # and step size and try again. \n",
    "\n",
    "            _rtol /= 1.2\n",
    "            _max_step /= 1.5\n",
    "\n",
    "        else:\n",
    "            # solve_ivp completed successfully. However, we still need to check\n",
    "            # that the solution managed to integrate over the entire redshift range,\n",
    "            # and that there are no NaNs in the solution.\n",
    "            if soln['t'].size == rs_vec.size and not np.isnan(soln['y']).any():\n",
    "\n",
    "                solved = True\n",
    "\n",
    "    if not solved:\n",
    "        # If solution fails, simply return False. \n",
    "        soln = False\n",
    "\n",
    "    return soln "
   ]
  },
  {
   "cell_type": "markdown",
   "metadata": {},
   "source": [
    "# Fixed Parameters"
   ]
  },
  {
   "cell_type": "code",
   "execution_count": 6,
   "metadata": {},
   "outputs": [],
   "source": [
    "rs_start = 4000\n",
    "rs_vec   = np.flipud(np.arange(10., rs_start, 1))\n",
    "\n",
    "# Fixed Parameters\n",
    "f   = 1e-4\n",
    "m_C = 1e8   \n",
    "\n",
    "# Loop Points\n",
    "# m_m_arr = np.array([3e6, 1e7, 3e7, 1e8, 3e8, 1e9, 3e9, 1e10, 3e10, 1e11, 3e11, 1e12, 3e12, 1e13])\n",
    "m_m       = 3e9\n",
    "Q_arr     = 10**np.arange(-6., 0.2, 0.2) # 31 entries\n",
    "# Q_arr     = np.concatenate((\n",
    "#     10**np.arange(-6.,  -4., 0.2), \n",
    "#     10**np.arange(-4.,  -2., 0.04),\n",
    "#     10**np.arange(-2.,  0.2, 0.2)\n",
    "# ), axis=None)\n",
    "V_rel_arr = np.arange(0., 4.1, 0.103) * 29e5 / phys.c\n",
    "V_rel_arr[0] = 1e-16\n",
    "# Q_arr = Q_arr[::3]\n",
    "# V_rel_arr = V_rel_arr[::10]"
   ]
  },
  {
   "cell_type": "code",
   "execution_count": 7,
   "metadata": {},
   "outputs": [
    {
     "name": "stdout",
     "output_type": "stream",
     "text": [
      "[1.00000000e-06 1.58489319e-06 2.51188643e-06 3.98107171e-06\n",
      " 6.30957344e-06 1.00000000e-05 1.58489319e-05 2.51188643e-05\n",
      " 3.98107171e-05 6.30957344e-05 1.00000000e-04 1.58489319e-04\n",
      " 2.51188643e-04 3.98107171e-04 6.30957344e-04 1.00000000e-03\n",
      " 1.58489319e-03 2.51188643e-03 3.98107171e-03 6.30957344e-03\n",
      " 1.00000000e-02 1.58489319e-02 2.51188643e-02 3.98107171e-02\n",
      " 6.30957344e-02 1.00000000e-01 1.58489319e-01 2.51188643e-01\n",
      " 3.98107171e-01 6.30957344e-01 1.00000000e+00]\n"
     ]
    }
   ],
   "source": [
    "print(Q_arr)"
   ]
  },
  {
   "cell_type": "markdown",
   "metadata": {},
   "source": [
    "# Loop"
   ]
  },
  {
   "cell_type": "code",
   "execution_count": null,
   "metadata": {
    "scrolled": true
   },
   "outputs": [],
   "source": [
    "import warnings\n",
    "warnings.simplefilter('ignore')\n",
    "\n",
    "soln_arr = np.zeros((Q_arr.size, V_rel_arr.size, rs_vec.size, 6))\n",
    "\n",
    "error_arr = []\n",
    "\n",
    "for i,Q in enumerate(tqdm(Q_arr)):\n",
    "    \n",
    "     # Initial conditions are T_CMB - T_b, T_b - T_m, log(T_C), log(V_bm), log(V_cb), xe\n",
    "#     init_cond = [1e-5, 1e-5, np.log(1e-6), np.log(1e-16), np.log(1e-16), 1.] \n",
    "    init_cond = np.array([[1e-5, 1e-5, np.log(1e-6), np.log(1e-16), np.log(V_rel), 1.] for V_rel in V_rel_arr])\n",
    "    \n",
    "    # List of parameters that need to be passed. \n",
    "    params = zip(\n",
    "        m_m*np.ones_like(V_rel_arr) , m_C*np.ones_like(V_rel_arr),\n",
    "        f*np.ones_like(V_rel_arr)   , Q*np.ones_like(V_rel_arr),\n",
    "        1e-5*np.ones_like(V_rel_arr), np.inf*np.ones_like(V_rel_arr),\n",
    "        init_cond\n",
    "    )\n",
    "    \n",
    "    \n",
    "    # Parallelization.\n",
    "    pool = Pool(V_rel_arr.size)\n",
    "    \n",
    "    soln_raw_arr = list(tqdm(pool.imap(solve_ODE, params)))\n",
    "    \n",
    "    for j,soln_raw in enumerate(soln_raw_arr): \n",
    "    \n",
    "        if soln_raw:\n",
    "\n",
    "            soln = np.transpose(soln_raw['y'])\n",
    "            \n",
    "            soln_arr[i,j] = soln\n",
    "\n",
    "            # Convert to (T_b, T_m, T_C, V_bm, V_mC)\n",
    "            soln_arr[i,j,:,0] = phys.TCMB(rs_vec) - soln_arr[i,j,:,0]\n",
    "            soln_arr[i,j,:,1] = soln_arr[i,j,:,0] - soln_arr[i,j,:,1]\n",
    "            soln_arr[i,j,:,2] = np.exp(soln_arr[i,j,:,2])\n",
    "            soln_arr[i,j,:,3] = np.exp(soln_arr[i,j,:,3])\n",
    "            soln_arr[i,j,:,4] = np.exp(soln_arr[i,j,:,4])\n",
    "\n",
    "        else:\n",
    "        \n",
    "            # False was returned, and the solution failed. Append the index\n",
    "            # to error_arr.\n",
    "            error_arr.append([i,j])\n",
    "            \n",
    "    print('Errors: ', error_arr)\n",
    "        \n"
   ]
  },
  {
   "cell_type": "code",
   "execution_count": 8,
   "metadata": {},
   "outputs": [],
   "source": [
    "pickle.dump((soln_arr, error_arr), open('/tigress/hongwanl/millicharged_DM_with_bath/Vrel_scan_fixed_He_bug/data_Vrel_m_m_3_GeV_m_C_100_MeV.p','wb'))\n",
    "\n",
    "soln_arr, error_arr = pickle.load(open('/tigress/hongwanl/millicharged_DM_with_bath/Vrel_scan_fixed_He_bug/data_Vrel_m_m_3_GeV_m_C_100_MeV.p','rb'))\n",
    "\n",
    "# error_arr = to_clean\n"
   ]
  },
  {
   "cell_type": "markdown",
   "metadata": {},
   "source": [
    "# Handling Problematic Points"
   ]
  },
  {
   "cell_type": "code",
   "execution_count": 13,
   "metadata": {},
   "outputs": [
    {
     "name": "stdout",
     "output_type": "stream",
     "text": [
      "Number of problematic points:  2\n",
      "[2.51188643e-06 6.30957344e-06] [1.e-13 1.e-13]\n"
     ]
    },
    {
     "data": {
      "application/vnd.jupyter.widget-view+json": {
       "model_id": "021708b64e214dcea20f8a45f2745296",
       "version_major": 2,
       "version_minor": 0
      },
      "text/plain": [
       "HBox(children=(FloatProgress(value=0.0, max=1.0), HTML(value='')))"
      ]
     },
     "metadata": {},
     "output_type": "display_data"
    },
    {
     "name": "stdout",
     "output_type": "stream",
     "text": [
      "T Diff param:  0.005752512696922563\n",
      "T_C param:  1.9315479317881495e-05\n",
      "Step size param:  7.248889691719876e-05\n",
      "Max step param:  inf\n",
      "Nrun:  1\n"
     ]
    },
    {
     "data": {
      "application/vnd.jupyter.widget-view+json": {
       "model_id": "f370c6f375c5406499164320c2b90e5f",
       "version_major": 2,
       "version_minor": 0
      },
      "text/plain": [
       "HBox(children=(FloatProgress(value=1.0, bar_style='info', max=1.0), HTML(value='')))"
      ]
     },
     "metadata": {},
     "output_type": "display_data"
    },
    {
     "name": "stdout",
     "output_type": "stream",
     "text": [
      "\n",
      "\n",
      "[[2, 0], [4, 0]]\n",
      "Number of problematic points:  2\n",
      "[2.51188643e-06 6.30957344e-06] [1.e-13 1.e-13]\n"
     ]
    },
    {
     "data": {
      "application/vnd.jupyter.widget-view+json": {
       "model_id": "d9339e510f2344de81817302a4f9d4f6",
       "version_major": 2,
       "version_minor": 0
      },
      "text/plain": [
       "HBox(children=(FloatProgress(value=0.0, max=1.0), HTML(value='')))"
      ]
     },
     "metadata": {},
     "output_type": "display_data"
    },
    {
     "name": "stdout",
     "output_type": "stream",
     "text": [
      "T Diff param:  0.00012778641515817882\n",
      "T_C param:  0.0008798968187729575\n",
      "Step size param:  2.6170730879191016e-05\n",
      "Max step param:  inf\n",
      "Nrun:  2\n"
     ]
    },
    {
     "data": {
      "application/vnd.jupyter.widget-view+json": {
       "model_id": "31243562cfa74fa9807ad81488817a71",
       "version_major": 2,
       "version_minor": 0
      },
      "text/plain": [
       "HBox(children=(FloatProgress(value=1.0, bar_style='info', max=1.0), HTML(value='')))"
      ]
     },
     "metadata": {},
     "output_type": "display_data"
    },
    {
     "name": "stdout",
     "output_type": "stream",
     "text": [
      "\n",
      "\n",
      "[[2, 0], [4, 0]]\n",
      "Number of problematic points:  2\n",
      "[2.51188643e-06 6.30957344e-06] [1.e-13 1.e-13]\n"
     ]
    },
    {
     "data": {
      "application/vnd.jupyter.widget-view+json": {
       "model_id": "61cc00b679a14078a10b28f9b00054dc",
       "version_major": 2,
       "version_minor": 0
      },
      "text/plain": [
       "HBox(children=(FloatProgress(value=0.0, max=1.0), HTML(value='')))"
      ]
     },
     "metadata": {},
     "output_type": "display_data"
    },
    {
     "name": "stdout",
     "output_type": "stream",
     "text": [
      "T Diff param:  0.0007905957146978452\n",
      "T_C param:  0.0001345865182915479\n",
      "Step size param:  4.1675853026469756e-05\n",
      "Max step param:  inf\n",
      "Nrun:  3\n"
     ]
    },
    {
     "data": {
      "application/vnd.jupyter.widget-view+json": {
       "model_id": "3f895250dec745c69daf4f5389ac113d",
       "version_major": 2,
       "version_minor": 0
      },
      "text/plain": [
       "HBox(children=(FloatProgress(value=1.0, bar_style='info', max=1.0), HTML(value='')))"
      ]
     },
     "metadata": {},
     "output_type": "display_data"
    },
    {
     "name": "stdout",
     "output_type": "stream",
     "text": [
      "\n",
      "Solved: [ 4 ,  0 ]\n",
      "\n",
      "[[2, 0]]\n",
      "Number of problematic points:  1\n",
      "[2.51188643e-06] [1.e-13]\n"
     ]
    },
    {
     "data": {
      "application/vnd.jupyter.widget-view+json": {
       "model_id": "69f2c5b6971a4e079ef43bae482a6210",
       "version_major": 2,
       "version_minor": 0
      },
      "text/plain": [
       "HBox(children=(FloatProgress(value=0.0, max=1.0), HTML(value='')))"
      ]
     },
     "metadata": {},
     "output_type": "display_data"
    },
    {
     "name": "stdout",
     "output_type": "stream",
     "text": [
      "T Diff param:  0.00035497066656223523\n",
      "T_C param:  0.00023777870836495408\n",
      "Step size param:  3.9388559138425965e-05\n",
      "Max step param:  inf\n",
      "Nrun:  4\n"
     ]
    },
    {
     "data": {
      "application/vnd.jupyter.widget-view+json": {
       "model_id": "0cc124d32672482cb74ed0521c130065",
       "version_major": 2,
       "version_minor": 0
      },
      "text/plain": [
       "HBox(children=(FloatProgress(value=1.0, bar_style='info', max=1.0), HTML(value='')))"
      ]
     },
     "metadata": {},
     "output_type": "display_data"
    },
    {
     "name": "stdout",
     "output_type": "stream",
     "text": [
      "\n",
      "\n",
      "[[2, 0]]\n",
      "Number of problematic points:  1\n",
      "[2.51188643e-06] [1.e-13]\n"
     ]
    },
    {
     "data": {
      "application/vnd.jupyter.widget-view+json": {
       "model_id": "778763fc44a14aae926a6414b5f804a7",
       "version_major": 2,
       "version_minor": 0
      },
      "text/plain": [
       "HBox(children=(FloatProgress(value=0.0, max=1.0), HTML(value='')))"
      ]
     },
     "metadata": {},
     "output_type": "display_data"
    },
    {
     "name": "stdout",
     "output_type": "stream",
     "text": [
      "T Diff param:  0.0032894724891153328\n",
      "T_C param:  0.0005454875973597362\n",
      "Step size param:  3.981278893915487e-05\n",
      "Max step param:  inf\n",
      "Nrun:  5\n"
     ]
    },
    {
     "data": {
      "application/vnd.jupyter.widget-view+json": {
       "model_id": "405fd050d353411bb740a66eb76e2fa0",
       "version_major": 2,
       "version_minor": 0
      },
      "text/plain": [
       "HBox(children=(FloatProgress(value=1.0, bar_style='info', max=1.0), HTML(value='')))"
      ]
     },
     "metadata": {},
     "output_type": "display_data"
    },
    {
     "name": "stdout",
     "output_type": "stream",
     "text": [
      "\n",
      "\n",
      "[[2, 0]]\n",
      "Number of problematic points:  1\n",
      "[2.51188643e-06] [1.e-13]\n"
     ]
    },
    {
     "data": {
      "application/vnd.jupyter.widget-view+json": {
       "model_id": "a891f9e93ca9430eaa35fdde884c45b3",
       "version_major": 2,
       "version_minor": 0
      },
      "text/plain": [
       "HBox(children=(FloatProgress(value=0.0, max=1.0), HTML(value='')))"
      ]
     },
     "metadata": {},
     "output_type": "display_data"
    },
    {
     "name": "stdout",
     "output_type": "stream",
     "text": [
      "T Diff param:  0.001585647272596657\n",
      "T_C param:  0.0003263880743667953\n",
      "Step size param:  1.1892504397466703e-05\n",
      "Max step param:  inf\n",
      "Nrun:  6\n"
     ]
    },
    {
     "data": {
      "application/vnd.jupyter.widget-view+json": {
       "model_id": "667c35e78a4946068d8b96db6cfbf2b5",
       "version_major": 2,
       "version_minor": 0
      },
      "text/plain": [
       "HBox(children=(FloatProgress(value=1.0, bar_style='info', max=1.0), HTML(value='')))"
      ]
     },
     "metadata": {},
     "output_type": "display_data"
    },
    {
     "name": "stdout",
     "output_type": "stream",
     "text": [
      "\n",
      "Solved: [ 2 ,  0 ]\n",
      "\n",
      "[]\n"
     ]
    }
   ],
   "source": [
    "import warnings\n",
    "warnings.simplefilter('ignore')\n",
    "\n",
    "# while len(error_arr) > 0:\n",
    "\n",
    "Nrun = 0\n",
    "\n",
    "while Nrun < 30 and len(error_arr) > 0:\n",
    "    \n",
    "    Nrun += 1\n",
    "\n",
    "    print('Number of problematic points: ', len(error_arr))\n",
    "\n",
    "    # Pull the list of Q and V_rel that need to be iterated over from error_arr.\n",
    "    # Can change the first entry of V_rel from 1e-16 to 1e-13 if difficult to solve. \n",
    "    Q_err_arr     = np.array([Q_arr[pt[0]] for pt in error_arr])\n",
    "    V_rel_err_arr = np.array([V_rel_arr[pt[1]] for pt in error_arr])\n",
    "    \n",
    "    print(Q_err_arr, V_rel_err_arr)\n",
    "\n",
    "\n",
    "    # Keeps track of which points become solved after running this cell.\n",
    "    solved_arr  = [False for _ in error_arr]\n",
    "\n",
    "    # Strategies: adjust step-size, initial conditions\n",
    "\n",
    "    # New set of parameters for solution, pulled from the indices of error_arr. \n",
    "    # Added helper indices in front to be accessed later.\n",
    "    params_full = np.transpose([\n",
    "        np.arange(len(error_arr)),\n",
    "        [err_ind[0] for err_ind in error_arr],\n",
    "        [err_ind[1] for err_ind in error_arr],\n",
    "        m_m*np.ones_like(Q_err_arr)   , m_C*np.ones_like(Q_err_arr),\n",
    "        f*np.ones_like(Q_err_arr)     , Q_err_arr,\n",
    "        8e-3*np.ones_like(Q_err_arr)  , np.inf*np.ones_like(Q_err_arr),\n",
    "        V_rel_err_arr\n",
    "    ])\n",
    "\n",
    "    # Split the parameters into chunks that can be fed into each thread. \n",
    "    # There are V_rel_arr.size threads.\n",
    "    param_chunks = np.array_split(params_full, V_rel_err_arr.size//V_rel_arr.size + 1)\n",
    "\n",
    "    for params in tqdm(param_chunks):\n",
    "\n",
    "        # Parallelization.\n",
    "        pool = Pool(Q_arr.size)\n",
    "\n",
    "        # Initial conditions are T_CMB - T_b, T_b - T_m, log(T_C), log(V_bm), log(V_cb), xe\n",
    "        # init_cond = [2e-2, 2e-2, np.log(3e-4), np.log(1e-16), np.log(1e-16), 1.] \n",
    "        \n",
    "        # Try small steps at the last few stubborn points. Start with -4 for step size. \n",
    "        \n",
    "#         T_diff_init = 10.**(-2.*np.random.random() - 2.)\n",
    "#         step_size   = 10.**(-1.*np.random.random() - 4.)\n",
    "#         T_C_init    = 10.**(-2.*np.random.random() - 3.)\n",
    "\n",
    "        T_diff_init = 10.**(-2.*np.random.random() - 2.)\n",
    "        step_size   = 10.**(-1.*np.random.random() - 4.)\n",
    "        T_C_init    = 10.**(-2.*np.random.random() - 3.)\n",
    "        \n",
    "#         T_diff_init = 2.4e-4\n",
    "#         step_size = 4.13e-6\n",
    "#         T_C_init = 3e-6\n",
    "#         max_step = np.inf\n",
    "        max_step = np.inf\n",
    "        \n",
    "        \n",
    "        init_cond_arr = np.array([[T_diff_init, T_diff_init, np.log(T_C_init), np.log(1e-16), np.log(V_rel), 1.] for V_rel in params[:,-1]])\n",
    "        \n",
    "        print('T Diff param: ', T_diff_init)\n",
    "        print('T_C param: ', T_C_init)\n",
    "        print('Step size param: ', step_size)\n",
    "        print('Max step param: ', max_step)\n",
    "        print('Nrun: ', Nrun)\n",
    "        \n",
    "        params_diff_eq = zip(\n",
    "            m_m*np.ones_like(params[:,-1]) , m_C*np.ones_like(params[:,-1]),\n",
    "            f*np.ones_like(params[:,-1])   , params[:,6],\n",
    "            step_size*np.ones_like(params[:,-1]), max_step*np.ones_like(params[:,-1]),\n",
    "            init_cond_arr\n",
    "        )\n",
    "\n",
    "        soln_raw_arr = list(tqdm(pool.imap(solve_ODE, params_diff_eq)))\n",
    "\n",
    "        for err_ind,i,j,soln_raw in zip(\n",
    "            params[:,0].astype(int), \n",
    "            params[:,1].astype(int), params[:,2].astype(int), soln_raw_arr\n",
    "        ): \n",
    "\n",
    "            if soln_raw:\n",
    "                # Solution was achieved.\n",
    "\n",
    "                soln = np.transpose(soln_raw['y'])\n",
    "\n",
    "                soln_arr[i,j] = soln\n",
    "\n",
    "                # Convert to (T_b, T_m, T_C, V_bm, V_mC)\n",
    "                soln_arr[i,j,:,0] = phys.TCMB(rs_vec) - soln_arr[i,j,:,0]\n",
    "                soln_arr[i,j,:,1] = soln_arr[i,j,:,0] - soln_arr[i,j,:,1]\n",
    "                soln_arr[i,j,:,2] = np.exp(soln_arr[i,j,:,2])\n",
    "                soln_arr[i,j,:,3] = np.exp(soln_arr[i,j,:,3])\n",
    "                soln_arr[i,j,:,4] = np.exp(soln_arr[i,j,:,4])\n",
    "\n",
    "                print('Solved: [', i, ', ', j, ']')\n",
    "\n",
    "                # Set the solved_arr at the appropriate index to True.\n",
    "                solved_arr[err_ind] = True\n",
    "\n",
    "    # Produce a new error_arr, with entries in solved_arr that are True removed.\n",
    "    error_arr = [ind for solved,ind in zip(solved_arr,error_arr) if not solved]\n",
    "\n",
    "    print(error_arr)\n",
    "\n",
    "    pickle.dump((soln_arr, error_arr), open('/tigress/hongwanl/millicharged_DM_with_bath/Vrel_scan_fixed_He_bug/data_Vrel_m_m_3_GeV_m_C_100_MeV.p','wb'))\n",
    "\n",
    "# REPEAT THIS CELL AS MANY TIMES AS NECESSARY TO REMOVE ALL PROBLEMATIC POINTS."
   ]
  },
  {
   "cell_type": "markdown",
   "metadata": {},
   "source": [
    "### Make a Plot"
   ]
  },
  {
   "cell_type": "code",
   "execution_count": 14,
   "metadata": {},
   "outputs": [
    {
     "data": {
      "text/plain": [
       "Text(0, 0.5, 'Millicharge $Q$')"
      ]
     },
     "execution_count": 14,
     "metadata": {},
     "output_type": "execute_result"
    },
    {
     "data": {
      "image/png": "[encoded data removed]",
      "text/plain": [
       "<Figure size 600x450 with 2 Axes>"
      ]
     },
     "metadata": {},
     "output_type": "display_data"
    }
   ],
   "source": [
    "soln_arr, error_arr = pickle.load(open('/tigress/hongwanl/millicharged_DM_with_bath/Vrel_scan_fixed_He_bug/data_Vrel_m_m_3_GeV_m_C_100_MeV.p','rb'))\n",
    "\n",
    "# rs_vec[-9] is 1+z = 18. \n",
    "\n",
    "plt.figure(figsize=(6,4.5))\n",
    "\n",
    "# plt.yscale('log')\n",
    "\n",
    "# plt.contourf(V_rel_arr * phys.c / 1e5, Q_arr,  soln_arr[:,:,-9,0] / phys.kB)\n",
    "plt.pcolormesh(np.log(soln_arr[:,:,-1,0] / phys.kB))\n",
    "\n",
    "plt.colorbar(label='Baryon Temperature [K]')\n",
    "\n",
    "plt.axis([0, 40, 0, 31])\n",
    "\n",
    "plt.xlabel(r'Baryon-mDM Relative Velocity $V_\\mathrm{bm}$ [km/s]')\n",
    "plt.ylabel(r'Millicharge $Q$')\n"
   ]
  },
  {
   "cell_type": "code",
   "execution_count": null,
   "metadata": {},
   "outputs": [],
   "source": [
    "def generate_errors(i_start, i_end, j_start, j_end):\n",
    "    err_ary = []\n",
    "    for i in np.arange(i_start, i_end+1):\n",
    "        for j in np.arange(j_start, j_end+1):\n",
    "            err_ary.append([i,j])\n",
    "            \n",
    "    return err_ary\n",
    "\n",
    "# Q first. \n",
    "to_clean = generate_errors(30, 30, 0, 5)\n",
    "            "
   ]
  },
  {
   "cell_type": "code",
   "execution_count": null,
   "metadata": {},
   "outputs": [],
   "source": [
    "soln_arr[13,0,:,0]"
   ]
  },
  {
   "cell_type": "code",
   "execution_count": null,
   "metadata": {},
   "outputs": [],
   "source": [
    "10**0.2"
   ]
  },
  {
   "cell_type": "code",
   "execution_count": null,
   "metadata": {},
   "outputs": [],
   "source": [
    "V_rel_arr"
   ]
  },
  {
   "cell_type": "code",
   "execution_count": null,
   "metadata": {},
   "outputs": [],
   "source": []
  }
 ],
 "metadata": {
  "kernelspec": {
   "display_name": "Python 3",
   "language": "python",
   "name": "python3"
  },
  "language_info": {
   "codemirror_mode": {
    "name": "ipython",
    "version": 3
   },
   "file_extension": ".py",
   "mimetype": "text/x-python",
   "name": "python",
   "nbconvert_exporter": "python",
   "pygments_lexer": "ipython3",
   "version": "3.7.4"
  }
 },
 "nbformat": 4,
 "nbformat_minor": 4
}
