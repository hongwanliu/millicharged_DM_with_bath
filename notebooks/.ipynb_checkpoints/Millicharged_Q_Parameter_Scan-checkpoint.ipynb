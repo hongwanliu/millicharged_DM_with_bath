{
 "cells": [
  {
   "cell_type": "markdown",
   "metadata": {},
   "source": [
    "# Preamble"
   ]
  },
  {
   "cell_type": "code",
   "execution_count": 1,
   "metadata": {},
   "outputs": [],
   "source": [
    "%load_ext autoreload\n",
    "import sys\n",
    "sys.path.append(\"..\")"
   ]
  },
  {
   "cell_type": "code",
   "execution_count": 2,
   "metadata": {},
   "outputs": [],
   "source": [
    "%matplotlib inline"
   ]
  },
  {
   "cell_type": "code",
   "execution_count": 3,
   "metadata": {},
   "outputs": [],
   "source": [
    "%autoreload\n",
    "\n",
    "import matplotlib\n",
    "matplotlib.rc_file('matplotlibrc')\n",
    "import matplotlib.pyplot as plt\n",
    "\n",
    "import numpy as np\n",
    "import pickle\n",
    "\n",
    "from multiprocessing import Pool \n",
    "from scipy.interpolate import interp1d\n",
    "from scipy.integrate import solve_ivp\n",
    "from tqdm import tqdm_notebook as tqdm\n",
    "\n",
    "\n",
    "import integrals as integ\n",
    "import diff_eq_multi_2 as diff_eq\n",
    "import physics as phys\n",
    "\n",
    "# Load the standard solution.\n",
    "a = pickle.load(open('../data/std_soln_He.p','rb'))\n",
    "\n",
    "std_Tm = interp1d(a[0,:], a[1,:])\n",
    "std_xH = interp1d(a[0,:], a[2,:])"
   ]
  },
  {
   "cell_type": "markdown",
   "metadata": {},
   "source": [
    "# Constraints on $Q_\\mathrm{eff}$"
   ]
  },
  {
   "cell_type": "code",
   "execution_count": 4,
   "metadata": {},
   "outputs": [],
   "source": [
    "def max_Q_d_eff(m_m, m_C, f, Q):\n",
    "    \n",
    "    g_em    = np.sqrt(4*np.pi*phys.alpha)\n",
    "    mu_pC   = m_C*phys.mp/(m_C + phys.mp)\n",
    "    f_ratio = 1. + phys.omega_baryon/(f*phys.omega_DM)\n",
    "    \n",
    "    max_SI             = 0.26*(m_C/1e9)**(3/8) * np.sqrt(np.sqrt(4*np.pi)/g_em)\n",
    "    max_CMB            = 1e-3 * np.sqrt(m_C/1e9) * np.sqrt(m_m/1e9) * (1e9/(m_m + m_C))**0.25 * f_ratio**0.25\n",
    "    max_tight_coupling = 0.08 * np.sqrt(Q) * np.sqrt(m_C/1e8) * (1e9/m_m)**0.25\n",
    "    \n",
    "    return np.min((max_SI, max_CMB, max_tight_coupling))"
   ]
  },
  {
   "cell_type": "markdown",
   "metadata": {},
   "source": [
    "# Fixed Parameters"
   ]
  },
  {
   "cell_type": "code",
   "execution_count": 5,
   "metadata": {},
   "outputs": [],
   "source": [
    "rs_start = 4000\n",
    "rs_vec   = np.flipud(np.arange(10., rs_start, 1))\n",
    "\n",
    "# Fixed Parameters\n",
    "f   = 1e-4\n",
    "m_C = 1e8   "
   ]
  },
  {
   "cell_type": "markdown",
   "metadata": {},
   "source": [
    "# Loop"
   ]
  },
  {
   "cell_type": "code",
   "execution_count": 9,
   "metadata": {},
   "outputs": [
    {
     "data": {
      "application/vnd.jupyter.widget-view+json": {
       "model_id": "79b615314b2e4fafa26a126ad08dd7f8",
       "version_major": 2,
       "version_minor": 0
      },
      "text/plain": [
       "HBox(children=(IntProgress(value=0, max=35), HTML(value='')))"
      ]
     },
     "metadata": {},
     "output_type": "display_data"
    },
    {
     "name": "stdout",
     "output_type": "stream",
     "text": [
      "\n"
     ]
    },
    {
     "ename": "ValueError",
     "evalue": "The truth value of an array with more than one element is ambiguous. Use a.any() or a.all()",
     "output_type": "error",
     "traceback": [
      "\u001b[0;31m---------------------------------------------------------------------------\u001b[0m",
      "\u001b[0;31mValueError\u001b[0m                                Traceback (most recent call last)",
      "\u001b[0;32m<ipython-input-9-fd38191de7ab>\u001b[0m in \u001b[0;36m<module>\u001b[0;34m\u001b[0m\n\u001b[1;32m     66\u001b[0m     \u001b[0mpool\u001b[0m \u001b[0;34m=\u001b[0m \u001b[0mPool\u001b[0m\u001b[0;34m(\u001b[0m\u001b[0;36m1\u001b[0m\u001b[0;34m)\u001b[0m\u001b[0;34m\u001b[0m\u001b[0;34m\u001b[0m\u001b[0m\n\u001b[1;32m     67\u001b[0m \u001b[0;34m\u001b[0m\u001b[0m\n\u001b[0;32m---> 68\u001b[0;31m     \u001b[0msoln_raw\u001b[0m \u001b[0;34m=\u001b[0m \u001b[0mlist\u001b[0m\u001b[0;34m(\u001b[0m\u001b[0mtqdm\u001b[0m\u001b[0;34m(\u001b[0m\u001b[0mpool\u001b[0m\u001b[0;34m.\u001b[0m\u001b[0mimap\u001b[0m\u001b[0;34m(\u001b[0m\u001b[0msolve_ODE_with_Q\u001b[0m\u001b[0;34m,\u001b[0m \u001b[0mQ_arr\u001b[0m\u001b[0;34m,\u001b[0m \u001b[0mQ_d_eff_arr\u001b[0m\u001b[0;34m)\u001b[0m\u001b[0;34m)\u001b[0m\u001b[0;34m)\u001b[0m\u001b[0;34m\u001b[0m\u001b[0;34m\u001b[0m\u001b[0m\n\u001b[0m",
      "\u001b[0;32m~/anaconda/envs/python3/lib/python3.6/multiprocessing/pool.py\u001b[0m in \u001b[0;36mimap\u001b[0;34m(self, func, iterable, chunksize)\u001b[0m\n\u001b[1;32m    299\u001b[0m         \u001b[0;32mif\u001b[0m \u001b[0mself\u001b[0m\u001b[0;34m.\u001b[0m\u001b[0m_state\u001b[0m \u001b[0;34m!=\u001b[0m \u001b[0mRUN\u001b[0m\u001b[0;34m:\u001b[0m\u001b[0;34m\u001b[0m\u001b[0;34m\u001b[0m\u001b[0m\n\u001b[1;32m    300\u001b[0m             \u001b[0;32mraise\u001b[0m \u001b[0mValueError\u001b[0m\u001b[0;34m(\u001b[0m\u001b[0;34m\"Pool not running\"\u001b[0m\u001b[0;34m)\u001b[0m\u001b[0;34m\u001b[0m\u001b[0;34m\u001b[0m\u001b[0m\n\u001b[0;32m--> 301\u001b[0;31m         \u001b[0;32mif\u001b[0m \u001b[0mchunksize\u001b[0m \u001b[0;34m==\u001b[0m \u001b[0;36m1\u001b[0m\u001b[0;34m:\u001b[0m\u001b[0;34m\u001b[0m\u001b[0;34m\u001b[0m\u001b[0m\n\u001b[0m\u001b[1;32m    302\u001b[0m             \u001b[0mresult\u001b[0m \u001b[0;34m=\u001b[0m \u001b[0mIMapIterator\u001b[0m\u001b[0;34m(\u001b[0m\u001b[0mself\u001b[0m\u001b[0;34m.\u001b[0m\u001b[0m_cache\u001b[0m\u001b[0;34m)\u001b[0m\u001b[0;34m\u001b[0m\u001b[0;34m\u001b[0m\u001b[0m\n\u001b[1;32m    303\u001b[0m             self._taskqueue.put(\n",
      "\u001b[0;31mValueError\u001b[0m: The truth value of an array with more than one element is ambiguous. Use a.any() or a.all()"
     ]
    }
   ],
   "source": [
    "# Loop Points\n",
    "m_m_arr = 10**np.arange(6.2, 13.2, 0.2)\n",
    "Q_arr   = 10**np.arange(-4.,  0.2, 0.2) # 21 entries\n",
    "\n",
    "\n",
    "\n",
    "soln_arr  = np.zeros((m_m_arr.size, Q_arr.size, rs_vec.size, 6))\n",
    "error_arr = [] \n",
    "\n",
    "for i,m_m in enumerate(tqdm(m_m_arr)):\n",
    "    \n",
    "    # Initial conditions are T_CMB - T_b, T_b - T_m, log(T_C), log(V_bm), log(V_cb), xe\n",
    "    init_cond = [1e-6, 1e-6, np.log(1e-6), np.log(1e-16), np.log(29e5/phys.c), 1.]\n",
    "    \n",
    "    rtol     = 1e-4\n",
    "    max_step = 100. \n",
    "    \n",
    "    def solve_ODE_with_Q(Q, Q_d_eff):\n",
    "        \n",
    "        def to_integrate(rs, var):\n",
    "\n",
    "            neutral_H  = True\n",
    "            neutral_He = True\n",
    "\n",
    "            return diff_eq.DM_baryon_ODE(\n",
    "                rs, var,\n",
    "                m_m, m_C, Q, Q_d_eff, neutral_H, neutral_He, f, True \n",
    "            )\n",
    "\n",
    "        # Number of attempts. \n",
    "        N_attempts = 0\n",
    "        solved = False\n",
    "\n",
    "        while (not solved) and (N_attempts < 10):\n",
    "\n",
    "            try:\n",
    "\n",
    "                N_attempts += 1\n",
    "\n",
    "                soln = solve_ivp(\n",
    "                    to_integrate, [rs_vec[0], rs_vec[-1]], init_cond, \n",
    "                    method='BDF', t_eval=rs_vec, \n",
    "                    rtol=rtol,\n",
    "                )\n",
    "\n",
    "            except:\n",
    "                # solve_ivp returned an error. Adjust the tolerance\n",
    "                # and step size and try again. \n",
    "\n",
    "                rtol /= 1.2\n",
    "                max_step /= 1.5\n",
    "\n",
    "            else:\n",
    "                # solve_ivp completed successfully. \n",
    "                solved = True\n",
    "\n",
    "        return soln \n",
    "    \n",
    "    # Effective dark sector charge, maximum value fro constraints.\n",
    "    Q_d_eff_arr = np.array([max_Q_d_eff(m_m, m_C, f, Q) for Q in Q_arr])\n",
    "    \n",
    "    # Temporary array for solution. \n",
    "    soln = np.zeros((rs_vec.size, 6))\n",
    "    \n",
    "    # Parallelization. \n",
    "    pool = Pool(21)\n",
    "    \n",
    "    soln_raw = list(tqdm(pool.imap(solve_ODE_with_Q, Q_arr, Q_d_eff_arr)))"
   ]
  },
  {
   "cell_type": "code",
   "execution_count": null,
   "metadata": {},
   "outputs": [],
   "source": []
  }
 ],
 "metadata": {
  "kernelspec": {
   "display_name": "Python 3",
   "language": "python",
   "name": "python3"
  },
  "language_info": {
   "codemirror_mode": {
    "name": "ipython",
    "version": 3
   },
   "file_extension": ".py",
   "mimetype": "text/x-python",
   "name": "python",
   "nbconvert_exporter": "python",
   "pygments_lexer": "ipython3",
   "version": "3.6.9"
  },
  "toc": {
   "base_numbering": 1,
   "nav_menu": {},
   "number_sections": true,
   "sideBar": true,
   "skip_h1_title": false,
   "title_cell": "Table of Contents",
   "title_sidebar": "Contents",
   "toc_cell": false,
   "toc_position": {},
   "toc_section_display": true,
   "toc_window_display": false
  }
 },
 "nbformat": 4,
 "nbformat_minor": 2
}
