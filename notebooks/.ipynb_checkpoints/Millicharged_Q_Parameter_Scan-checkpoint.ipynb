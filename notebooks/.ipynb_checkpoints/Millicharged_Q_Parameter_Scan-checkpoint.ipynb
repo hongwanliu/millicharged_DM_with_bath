{
 "cells": [
  {
   "cell_type": "markdown",
   "metadata": {},
   "source": [
    "# Preamble"
   ]
  },
  {
   "cell_type": "code",
   "execution_count": 1,
   "metadata": {},
   "outputs": [],
   "source": [
    "%load_ext autoreload\n",
    "import sys\n",
    "sys.path.append(\"..\")"
   ]
  },
  {
   "cell_type": "code",
   "execution_count": 2,
   "metadata": {},
   "outputs": [],
   "source": [
    "%matplotlib inline"
   ]
  },
  {
   "cell_type": "code",
   "execution_count": 3,
   "metadata": {},
   "outputs": [],
   "source": [
    "%autoreload\n",
    "\n",
    "import matplotlib\n",
    "matplotlib.rc_file('matplotlibrc')\n",
    "import matplotlib.pyplot as plt\n",
    "\n",
    "import numpy as np\n",
    "import pickle\n",
    "\n",
    "from multiprocessing import Pool \n",
    "from scipy.interpolate import interp1d\n",
    "from scipy.integrate import solve_ivp\n",
    "from tqdm import tqdm_notebook as tqdm\n",
    "\n",
    "\n",
    "import integrals as integ\n",
    "import diff_eq_multi_2 as diff_eq\n",
    "import physics as phys\n",
    "\n",
    "# Load the standard solution.\n",
    "a = pickle.load(open('../data/std_soln_He.p','rb'))\n",
    "\n",
    "std_Tm = interp1d(a[0,:], a[1,:])\n",
    "std_xH = interp1d(a[0,:], a[2,:])"
   ]
  },
  {
   "cell_type": "markdown",
   "metadata": {},
   "source": [
    "# Constraints on $Q_\\mathrm{eff}$"
   ]
  },
  {
   "cell_type": "code",
   "execution_count": 4,
   "metadata": {},
   "outputs": [],
   "source": [
    "def max_Q_d_eff(m_m, m_C, f, Q):\n",
    "    '''\n",
    "    Constraints on Q_eff from self-interaction, CMB and tight coupling. Q_eff \n",
    "    is defined by Q_eff^4 = alpha_C*alpha_m / alpha_EM^2\n",
    "    '''\n",
    "    g_em    = np.sqrt(4*np.pi*phys.alpha)\n",
    "    mu_pC   = m_C*phys.mp/(m_C + phys.mp)\n",
    "    f_ratio = 1. + phys.omega_baryon/(f*phys.omega_DM)\n",
    "    \n",
    "    max_SI             = 0.26*(m_C/1e9)**(3/8) * np.sqrt(np.sqrt(4*np.pi)/g_em)\n",
    "    max_CMB            = 1e-3 * np.sqrt(m_C/1e9) * np.sqrt(m_m/1e9) * (1e9/(m_m + m_C))**0.25 * f_ratio**0.25\n",
    "    max_tight_coupling = 0.08 * np.sqrt(Q) * np.sqrt(m_C/1e8) * (1e9/m_m)**0.25\n",
    "    \n",
    "    return np.min((max_SI, max_CMB, max_tight_coupling))"
   ]
  },
  {
   "cell_type": "markdown",
   "metadata": {},
   "source": [
    "# Function for Solving ODE"
   ]
  },
  {
   "cell_type": "code",
   "execution_count": 5,
   "metadata": {},
   "outputs": [],
   "source": [
    " def solve_ODE(params):\n",
    "    '''\n",
    "    Sets up the ODE with parameters given in params. \n",
    "    '''\n",
    "        \n",
    "    _m_m      = params[0]\n",
    "    _m_C      = params[1]\n",
    "    _f        = params[2]\n",
    "    _Q        = params[3]\n",
    "    _rtol     = params[4]\n",
    "    _max_step = params[5] \n",
    "    \n",
    "    # Fine the maximum Q_d,eff from the input parameters. \n",
    "    _Q_d_eff = max_Q_d_eff(_m_m, _m_C, _f, _Q)\n",
    "\n",
    "    def to_integrate(rs, var):\n",
    "\n",
    "        # Decide whether to include neutrals.\n",
    "        neutral_H  = True\n",
    "        neutral_He = True\n",
    "\n",
    "        # Gets the function that returns all the derivatives. \n",
    "        # Last option here is whether to integrate with log_T_C or not.\n",
    "        return diff_eq.DM_baryon_ODE(\n",
    "            rs, var,\n",
    "            _m_m, _m_C, _Q, _Q_d_eff, neutral_H, neutral_He, _f, True\n",
    "        )\n",
    "\n",
    "    # Number of attempts before giving up. \n",
    "    N_attempts = 0\n",
    "    # Flag to determine if solution was reached.\n",
    "    solved     = False\n",
    "\n",
    "    # List of indices (m_m, Q) where the solution failed. \n",
    "    error_arr = [] \n",
    "\n",
    "    while (not solved) and (N_attempts < 3):\n",
    "        # Keep attempting until solved or we've tried twice. \n",
    "\n",
    "        try:\n",
    "\n",
    "            N_attempts += 1\n",
    "\n",
    "            # Solve using solve_ivp. \n",
    "            soln = solve_ivp(\n",
    "                to_integrate, [rs_vec[0], rs_vec[-1]], init_cond, \n",
    "                method='BDF', t_eval=rs_vec, \n",
    "                rtol=_rtol, max_step=_max_step\n",
    "            )\n",
    "\n",
    "        except:\n",
    "            # solve_ivp returned an error. Adjust the tolerance\n",
    "            # and step size and try again. \n",
    "\n",
    "            _rtol /= 1.2\n",
    "            _max_step /= 1.5\n",
    "\n",
    "        else:\n",
    "            # solve_ivp completed successfully. However, we still need to check\n",
    "            # that the solution managed to integrate over the entire redshift range,\n",
    "            # and that there are no NaNs in the solution.\n",
    "            if soln['t'].size == rs_vec.size and not np.isnan(soln['y']).any():\n",
    "\n",
    "                solved = True\n",
    "\n",
    "    if not solved:\n",
    "        # If solution fails, simply return False. \n",
    "        soln = False\n",
    "\n",
    "    return soln "
   ]
  },
  {
   "cell_type": "markdown",
   "metadata": {},
   "source": [
    "# Fixed Parameters"
   ]
  },
  {
   "cell_type": "code",
   "execution_count": 6,
   "metadata": {},
   "outputs": [],
   "source": [
    "rs_start = 4000\n",
    "rs_vec   = np.flipud(np.arange(10., rs_start, 1))\n",
    "\n",
    "# Fixed Parameters\n",
    "f   = 1e-4\n",
    "m_C = 1e8   \n",
    "\n",
    "# Loop Points\n",
    "m_m_arr = 10**np.arange(6.2, 13.2, 0.2)\n",
    "Q_arr   = 10**np.arange(-6.,  0.2, 0.2) # 31 entries"
   ]
  },
  {
   "cell_type": "markdown",
   "metadata": {},
   "source": [
    "# Loop"
   ]
  },
  {
   "cell_type": "code",
   "execution_count": null,
   "metadata": {
    "scrolled": false
   },
   "outputs": [],
   "source": [
    "soln_arr  = np.zeros((m_m_arr.size, Q_arr.size, rs_vec.size, 6))\n",
    "\n",
    "error_arr = []\n",
    "\n",
    "for i,m_m in enumerate(tqdm(m_m_arr)):\n",
    "    \n",
    "    # Initial conditions are T_CMB - T_b, T_b - T_m, log(T_C), log(V_bm), log(V_cb), xe\n",
    "#     init_cond = [1e-5, 1e-5, np.log(1e-6), np.log(1e-16), np.log(1e-16), 1.] \n",
    "    init_cond = [1e-5, 1e-5, np.log(1e-6), np.log(1e-16), np.log(29e5/phys.c), 1.] \n",
    "    \n",
    "    # List of parameters that need to be passed. \n",
    "    params = zip(\n",
    "        m_m*np.ones_like(Q_arr) , m_C*np.ones_like(Q_arr),\n",
    "        f*np.ones_like(Q_arr)   , Q_arr,\n",
    "        1e-4*np.ones_like(Q_arr), np.inf*np.ones_like(Q_arr) \n",
    "    )\n",
    "    \n",
    "    \n",
    "    # Parallelization.\n",
    "    pool = Pool(Q_arr.size)\n",
    "    \n",
    "    soln_raw_arr = list(tqdm(pool.imap(solve_ODE, params)))\n",
    "    \n",
    "    for j,soln_raw in enumerate(soln_raw_arr): \n",
    "    \n",
    "        if soln_raw:\n",
    "\n",
    "            soln = np.transpose(soln_raw['y'])\n",
    "            \n",
    "            soln_arr[i,j] = soln\n",
    "\n",
    "            # Convert to (T_b, T_m, T_C, V_bm, V_mC)\n",
    "            soln_arr[i,j,:,0] = phys.TCMB(rs_vec) - soln_arr[i,j,:,0]\n",
    "            soln_arr[i,j,:,1] = soln_arr[i,j,:,0] - soln_arr[i,j,:,1]\n",
    "            soln_arr[i,j,:,2] = np.exp(soln_arr[i,j,:,2])\n",
    "            soln_arr[i,j,:,3] = np.exp(soln_arr[i,j,:,3])\n",
    "            soln_arr[i,j,:,4] = np.exp(soln_arr[i,j,:,4])\n",
    "\n",
    "        else:\n",
    "        \n",
    "            # False was returned, and the solution failed. Append the index\n",
    "            # to error_arr.\n",
    "            error_arr.append([i,j])\n",
    "            \n",
    "    print('Errors: ', error_arr)\n",
    "        "
   ]
  },
  {
   "cell_type": "code",
   "execution_count": 8,
   "metadata": {},
   "outputs": [],
   "source": [
    "# pickle.dump((soln_arr, error_arr), open('/tigress/hongwanl/millicharged_DM_with_bath/data.p','wb'))\n",
    "\n",
    "soln_arr, error_arr = pickle.load(open('/tigress/hongwanl/millicharged_DM_with_bath/data.p','rb'))\n",
    "\n",
    "    "
   ]
  },
  {
   "cell_type": "markdown",
   "metadata": {},
   "source": [
    "# Handling Problematic Points"
   ]
  },
  {
   "cell_type": "code",
   "execution_count": 47,
   "metadata": {
    "scrolled": false
   },
   "outputs": [
    {
     "name": "stdout",
     "output_type": "stream",
     "text": [
      "Number of problematic points:  2\n"
     ]
    },
    {
     "data": {
      "application/vnd.jupyter.widget-view+json": {
       "model_id": "364c52875da54c81a633532431d1684c",
       "version_major": 2,
       "version_minor": 0
      },
      "text/plain": [
       "HBox(children=(IntProgress(value=0, max=1), HTML(value='')))"
      ]
     },
     "metadata": {},
     "output_type": "display_data"
    },
    {
     "data": {
      "application/vnd.jupyter.widget-view+json": {
       "model_id": "1e9ab8ce618b422594bfcca89c3d05cb",
       "version_major": 2,
       "version_minor": 0
      },
      "text/plain": [
       "HBox(children=(IntProgress(value=1, bar_style='info', max=1), HTML(value='')))"
      ]
     },
     "metadata": {},
     "output_type": "display_data"
    },
    {
     "name": "stdout",
     "output_type": "stream",
     "text": [
      "\n",
      "[[2, 30], [3, 30]]\n"
     ]
    }
   ],
   "source": [
    "print('Number of problematic points: ', len(error_arr))\n",
    "\n",
    "# Pull the list of m_m and Q that need to be iterated over from error_arr.\n",
    "m_m_err_arr = np.array([m_m_arr[pt[0]] for pt in error_arr])\n",
    "Q_err_arr   = np.array([Q_arr[pt[1]] for pt in error_arr])\n",
    "\n",
    "# Keeps track of which points become solved after running this cell.\n",
    "solved_arr  = [False for _ in error_arr]\n",
    "\n",
    "# Initial conditions are T_CMB - T_b, T_b - T_m, log(T_C), log(V_bm), log(V_cb), xe\n",
    "# init_cond = [2e-2, 2e-2, np.log(3e-4), np.log(1e-16), np.log(1e-16), 1.] \n",
    "init_cond = [1e-2, 1e-2, np.log(1e-5), np.log(1e-16), np.log(29e5/phys.c), 1.] \n",
    "\n",
    "# Strategies: adjust step-size, initial conditions\n",
    "\n",
    "# New set of parameters for solution, pulled from the indices of error_arr. \n",
    "# Added helper indices in front to be accessed later.\n",
    "params_full = np.transpose([\n",
    "    np.arange(len(error_arr)),\n",
    "    [err_ind[0] for err_ind in error_arr],\n",
    "    [err_ind[1] for err_ind in error_arr],\n",
    "    m_m_err_arr                   , m_C*np.ones_like(m_m_err_arr),\n",
    "    f*np.ones_like(m_m_err_arr)   , Q_err_arr,\n",
    "    8e-9*np.ones_like(m_m_err_arr), np.inf*np.ones_like(m_m_err_arr) \n",
    "])\n",
    "\n",
    "# Split the parameters into chunks that can be fed into each thread. \n",
    "# There are Q_arr.size threads.\n",
    "param_chunks = np.array_split(params_full, m_m_err_arr.size//Q_arr.size + 1)\n",
    "\n",
    "for params in tqdm(param_chunks):\n",
    "    \n",
    "    # Parallelization.\n",
    "    pool = Pool(Q_arr.size)\n",
    "\n",
    "    soln_raw_arr = list(tqdm(pool.imap(solve_ODE, params[:,3:])))\n",
    "\n",
    "    for err_ind,i,j,soln_raw in zip(\n",
    "        params[:,0].astype(int), \n",
    "        params[:,1].astype(int), params[:,2].astype(int), soln_raw_arr\n",
    "    ): \n",
    "\n",
    "        if soln_raw:\n",
    "            # Solution was achieved.\n",
    "\n",
    "            soln = np.transpose(soln_raw['y'])\n",
    "\n",
    "            soln_arr[i,j] = soln\n",
    "\n",
    "            # Convert to (T_b, T_m, T_C, V_bm, V_mC)\n",
    "            soln_arr[i,j,:,0] = phys.TCMB(rs_vec) - soln_arr[i,j,:,0]\n",
    "            soln_arr[i,j,:,1] = soln_arr[i,j,:,0] - soln_arr[i,j,:,1]\n",
    "            soln_arr[i,j,:,2] = np.exp(soln_arr[i,j,:,2])\n",
    "            soln_arr[i,j,:,3] = np.exp(soln_arr[i,j,:,3])\n",
    "            soln_arr[i,j,:,4] = np.exp(soln_arr[i,j,:,4])\n",
    "\n",
    "            print('Solved: [', i, ', ', j, ']')\n",
    "            \n",
    "            # Set the solved_arr at the appropriate index to True.\n",
    "            solved_arr[err_ind] = True\n",
    "\n",
    "# Produce a new error_arr, with entries in solved_arr that are True removed.\n",
    "error_arr = [ind for solved,ind in zip(solved_arr,error_arr) if not solved]\n",
    "\n",
    "print(error_arr)\n",
    "\n",
    "pickle.dump((soln_arr, error_arr), open('/tigress/hongwanl/millicharged_DM_with_bath/data.p','wb'))\n",
    "\n",
    "# REPEAT THIS CELL AS MANY TIMES AS NECESSARY TO REMOVE ALL PROBLEMATIC POINTS.\n"
   ]
  },
  {
   "cell_type": "code",
   "execution_count": 35,
   "metadata": {},
   "outputs": [
    {
     "data": {
      "text/plain": [
       "<matplotlib.contour.QuadContourSet at 0x2ade0ce3a9e8>"
      ]
     },
     "execution_count": 35,
     "metadata": {},
     "output_type": "execute_result"
    },
    {
     "data": {
      "image/png": "[encoded data removed]",
      "text/plain": [
       "<Figure size 620x620 with 1 Axes>"
      ]
     },
     "metadata": {},
     "output_type": "display_data"
    }
   ],
   "source": [
    "plt.figure()\n",
    "\n",
    "plt.loglog()\n",
    "\n",
    "plt.contour(m_m_arr, Q_arr, np.transpose(soln_arr[:,:,-8,0]/phys.kB), levels=[5.1])"
   ]
  },
  {
   "cell_type": "code",
   "execution_count": 24,
   "metadata": {},
   "outputs": [],
   "source": [
    "pickle.dump((m_m_arr, Q_arr, rs_vec, soln_arr), open('/tigress/hongwanl/millicharged_DM_with_bath/f_1e-4_m_C_1e8_Vrel_29e5.p','wb'))\n",
    "\n"
   ]
  },
  {
   "cell_type": "code",
   "execution_count": null,
   "metadata": {},
   "outputs": [],
   "source": [
    "m_m_err_arr = np.array([m_m_arr[pt[0]] for pt in error_arr])\n",
    "Q_err_arr   = np.array([Q_arr[pt[1]] for pt in error_arr])\n",
    "m_m_err_arr.size//Q_arr.size"
   ]
  },
  {
   "cell_type": "code",
   "execution_count": null,
   "metadata": {},
   "outputs": [],
   "source": [
    "print(m_m_err_arr.size)\n",
    "print(Q_arr.size)"
   ]
  },
  {
   "cell_type": "code",
   "execution_count": 27,
   "metadata": {},
   "outputs": [
    {
     "data": {
      "text/plain": [
       "array([0.06309573, 0.1       , 0.15848932, 0.25118864, 0.39810717,\n",
       "       0.63095734, 1.        ])"
      ]
     },
     "execution_count": 27,
     "metadata": {},
     "output_type": "execute_result"
    }
   ],
   "source": [
    "Q_arr[24:]"
   ]
  },
  {
   "cell_type": "code",
   "execution_count": 30,
   "metadata": {},
   "outputs": [],
   "source": [
    "Q_ind_rerun = np.arange(24, 31)\n",
    "error_arr = []\n",
    "for i in np.arange(m_m_arr.size):\n",
    "    for j in Q_ind_rerun:\n",
    "        error_arr.append([i,j])"
   ]
  },
  {
   "cell_type": "code",
   "execution_count": 31,
   "metadata": {},
   "outputs": [
    {
     "data": {
      "text/plain": [
       "[[0, 24],\n",
       " [0, 25],\n",
       " [0, 26],\n",
       " [0, 27],\n",
       " [0, 28],\n",
       " [0, 29],\n",
       " [0, 30],\n",
       " [1, 24],\n",
       " [1, 25],\n",
       " [1, 26],\n",
       " [1, 27],\n",
       " [1, 28],\n",
       " [1, 29],\n",
       " [1, 30],\n",
       " [2, 24],\n",
       " [2, 25],\n",
       " [2, 26],\n",
       " [2, 27],\n",
       " [2, 28],\n",
       " [2, 29],\n",
       " [2, 30],\n",
       " [3, 24],\n",
       " [3, 25],\n",
       " [3, 26],\n",
       " [3, 27],\n",
       " [3, 28],\n",
       " [3, 29],\n",
       " [3, 30],\n",
       " [4, 24],\n",
       " [4, 25],\n",
       " [4, 26],\n",
       " [4, 27],\n",
       " [4, 28],\n",
       " [4, 29],\n",
       " [4, 30],\n",
       " [5, 24],\n",
       " [5, 25],\n",
       " [5, 26],\n",
       " [5, 27],\n",
       " [5, 28],\n",
       " [5, 29],\n",
       " [5, 30],\n",
       " [6, 24],\n",
       " [6, 25],\n",
       " [6, 26],\n",
       " [6, 27],\n",
       " [6, 28],\n",
       " [6, 29],\n",
       " [6, 30],\n",
       " [7, 24],\n",
       " [7, 25],\n",
       " [7, 26],\n",
       " [7, 27],\n",
       " [7, 28],\n",
       " [7, 29],\n",
       " [7, 30],\n",
       " [8, 24],\n",
       " [8, 25],\n",
       " [8, 26],\n",
       " [8, 27],\n",
       " [8, 28],\n",
       " [8, 29],\n",
       " [8, 30],\n",
       " [9, 24],\n",
       " [9, 25],\n",
       " [9, 26],\n",
       " [9, 27],\n",
       " [9, 28],\n",
       " [9, 29],\n",
       " [9, 30],\n",
       " [10, 24],\n",
       " [10, 25],\n",
       " [10, 26],\n",
       " [10, 27],\n",
       " [10, 28],\n",
       " [10, 29],\n",
       " [10, 30],\n",
       " [11, 24],\n",
       " [11, 25],\n",
       " [11, 26],\n",
       " [11, 27],\n",
       " [11, 28],\n",
       " [11, 29],\n",
       " [11, 30],\n",
       " [12, 24],\n",
       " [12, 25],\n",
       " [12, 26],\n",
       " [12, 27],\n",
       " [12, 28],\n",
       " [12, 29],\n",
       " [12, 30],\n",
       " [13, 24],\n",
       " [13, 25],\n",
       " [13, 26],\n",
       " [13, 27],\n",
       " [13, 28],\n",
       " [13, 29],\n",
       " [13, 30],\n",
       " [14, 24],\n",
       " [14, 25],\n",
       " [14, 26],\n",
       " [14, 27],\n",
       " [14, 28],\n",
       " [14, 29],\n",
       " [14, 30],\n",
       " [15, 24],\n",
       " [15, 25],\n",
       " [15, 26],\n",
       " [15, 27],\n",
       " [15, 28],\n",
       " [15, 29],\n",
       " [15, 30],\n",
       " [16, 24],\n",
       " [16, 25],\n",
       " [16, 26],\n",
       " [16, 27],\n",
       " [16, 28],\n",
       " [16, 29],\n",
       " [16, 30],\n",
       " [17, 24],\n",
       " [17, 25],\n",
       " [17, 26],\n",
       " [17, 27],\n",
       " [17, 28],\n",
       " [17, 29],\n",
       " [17, 30],\n",
       " [18, 24],\n",
       " [18, 25],\n",
       " [18, 26],\n",
       " [18, 27],\n",
       " [18, 28],\n",
       " [18, 29],\n",
       " [18, 30],\n",
       " [19, 24],\n",
       " [19, 25],\n",
       " [19, 26],\n",
       " [19, 27],\n",
       " [19, 28],\n",
       " [19, 29],\n",
       " [19, 30],\n",
       " [20, 24],\n",
       " [20, 25],\n",
       " [20, 26],\n",
       " [20, 27],\n",
       " [20, 28],\n",
       " [20, 29],\n",
       " [20, 30],\n",
       " [21, 24],\n",
       " [21, 25],\n",
       " [21, 26],\n",
       " [21, 27],\n",
       " [21, 28],\n",
       " [21, 29],\n",
       " [21, 30],\n",
       " [22, 24],\n",
       " [22, 25],\n",
       " [22, 26],\n",
       " [22, 27],\n",
       " [22, 28],\n",
       " [22, 29],\n",
       " [22, 30],\n",
       " [23, 24],\n",
       " [23, 25],\n",
       " [23, 26],\n",
       " [23, 27],\n",
       " [23, 28],\n",
       " [23, 29],\n",
       " [23, 30],\n",
       " [24, 24],\n",
       " [24, 25],\n",
       " [24, 26],\n",
       " [24, 27],\n",
       " [24, 28],\n",
       " [24, 29],\n",
       " [24, 30],\n",
       " [25, 24],\n",
       " [25, 25],\n",
       " [25, 26],\n",
       " [25, 27],\n",
       " [25, 28],\n",
       " [25, 29],\n",
       " [25, 30],\n",
       " [26, 24],\n",
       " [26, 25],\n",
       " [26, 26],\n",
       " [26, 27],\n",
       " [26, 28],\n",
       " [26, 29],\n",
       " [26, 30],\n",
       " [27, 24],\n",
       " [27, 25],\n",
       " [27, 26],\n",
       " [27, 27],\n",
       " [27, 28],\n",
       " [27, 29],\n",
       " [27, 30],\n",
       " [28, 24],\n",
       " [28, 25],\n",
       " [28, 26],\n",
       " [28, 27],\n",
       " [28, 28],\n",
       " [28, 29],\n",
       " [28, 30],\n",
       " [29, 24],\n",
       " [29, 25],\n",
       " [29, 26],\n",
       " [29, 27],\n",
       " [29, 28],\n",
       " [29, 29],\n",
       " [29, 30],\n",
       " [30, 24],\n",
       " [30, 25],\n",
       " [30, 26],\n",
       " [30, 27],\n",
       " [30, 28],\n",
       " [30, 29],\n",
       " [30, 30],\n",
       " [31, 24],\n",
       " [31, 25],\n",
       " [31, 26],\n",
       " [31, 27],\n",
       " [31, 28],\n",
       " [31, 29],\n",
       " [31, 30],\n",
       " [32, 24],\n",
       " [32, 25],\n",
       " [32, 26],\n",
       " [32, 27],\n",
       " [32, 28],\n",
       " [32, 29],\n",
       " [32, 30],\n",
       " [33, 24],\n",
       " [33, 25],\n",
       " [33, 26],\n",
       " [33, 27],\n",
       " [33, 28],\n",
       " [33, 29],\n",
       " [33, 30],\n",
       " [34, 24],\n",
       " [34, 25],\n",
       " [34, 26],\n",
       " [34, 27],\n",
       " [34, 28],\n",
       " [34, 29],\n",
       " [34, 30]]"
      ]
     },
     "execution_count": 31,
     "metadata": {},
     "output_type": "execute_result"
    }
   ],
   "source": [
    "error_arr"
   ]
  },
  {
   "cell_type": "code",
   "execution_count": null,
   "metadata": {},
   "outputs": [],
   "source": []
  }
 ],
 "metadata": {
  "kernelspec": {
   "display_name": "Python 3",
   "language": "python",
   "name": "python3"
  },
  "language_info": {
   "codemirror_mode": {
    "name": "ipython",
    "version": 3
   },
   "file_extension": ".py",
   "mimetype": "text/x-python",
   "name": "python",
   "nbconvert_exporter": "python",
   "pygments_lexer": "ipython3",
   "version": "3.7.3"
  },
  "toc": {
   "base_numbering": 1,
   "nav_menu": {},
   "number_sections": true,
   "sideBar": true,
   "skip_h1_title": false,
   "title_cell": "Table of Contents",
   "title_sidebar": "Contents",
   "toc_cell": false,
   "toc_position": {},
   "toc_section_display": true,
   "toc_window_display": false
  }
 },
 "nbformat": 4,
 "nbformat_minor": 2
}
