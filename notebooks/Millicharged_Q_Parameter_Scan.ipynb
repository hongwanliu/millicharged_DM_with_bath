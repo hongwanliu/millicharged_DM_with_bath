{
 "cells": [
  {
   "cell_type": "markdown",
   "metadata": {},
   "source": [
    "# Preamble"
   ]
  },
  {
   "cell_type": "code",
   "execution_count": 1,
   "metadata": {},
   "outputs": [],
   "source": [
    "%load_ext autoreload\n",
    "import sys\n",
    "sys.path.append(\"..\")"
   ]
  },
  {
   "cell_type": "code",
   "execution_count": 2,
   "metadata": {},
   "outputs": [],
   "source": [
    "%matplotlib inline"
   ]
  },
  {
   "cell_type": "code",
   "execution_count": 3,
   "metadata": {},
   "outputs": [],
   "source": [
    "%autoreload\n",
    "\n",
    "import matplotlib\n",
    "matplotlib.rc_file('matplotlibrc')\n",
    "import matplotlib.pyplot as plt\n",
    "\n",
    "import numpy as np\n",
    "import pickle\n",
    "\n",
    "from multiprocessing import Pool \n",
    "from scipy.interpolate import interp1d\n",
    "from scipy.integrate import solve_ivp\n",
    "from tqdm import tqdm_notebook as tqdm\n",
    "\n",
    "\n",
    "import integrals as integ\n",
    "import diff_eq_multi_2 as diff_eq\n",
    "import physics as phys\n",
    "\n",
    "# Load the standard solution.\n",
    "a = pickle.load(open('../data/std_soln_He.p','rb'))\n",
    "\n",
    "std_Tm = interp1d(a[0,:], a[1,:])\n",
    "std_xH = interp1d(a[0,:], a[2,:])"
   ]
  },
  {
   "cell_type": "markdown",
   "metadata": {},
   "source": [
    "# Constraints on $Q_\\mathrm{eff}$"
   ]
  },
  {
   "cell_type": "code",
   "execution_count": 4,
   "metadata": {},
   "outputs": [],
   "source": [
    "def max_Q_d_eff(m_m, m_C, f, Q):\n",
    "    \n",
    "    g_em    = np.sqrt(4*np.pi*phys.alpha)\n",
    "    mu_pC   = m_C*phys.mp/(m_C + phys.mp)\n",
    "    f_ratio = 1. + phys.omega_baryon/(f*phys.omega_DM)\n",
    "    \n",
    "    max_SI             = 0.26*(m_C/1e9)**(3/8) * np.sqrt(np.sqrt(4*np.pi)/g_em)\n",
    "    max_CMB            = 1e-3 * np.sqrt(m_C/1e9) * np.sqrt(m_m/1e9) * (1e9/(m_m + m_C))**0.25 * f_ratio**0.25\n",
    "    max_tight_coupling = 0.08 * np.sqrt(Q) * np.sqrt(m_C/1e8) * (1e9/m_m)**0.25\n",
    "    \n",
    "    return np.min((max_SI, max_CMB, max_tight_coupling))"
   ]
  },
  {
   "cell_type": "markdown",
   "metadata": {},
   "source": [
    "# Function for Solving ODE"
   ]
  },
  {
   "cell_type": "code",
   "execution_count": 5,
   "metadata": {},
   "outputs": [],
   "source": [
    " def solve_ODE(params):\n",
    "        \n",
    "    _m_m      = params[0]\n",
    "    _m_C      = params[1]\n",
    "    _f        = params[2]\n",
    "    _Q        = params[3]\n",
    "    _rtol     = params[4]\n",
    "    _max_step = params[5] \n",
    "    \n",
    "    _Q_d_eff = max_Q_d_eff(_m_m, _m_C, _f, _Q)\n",
    "\n",
    "    def to_integrate(rs, var):\n",
    "\n",
    "        neutral_H  = True\n",
    "        neutral_He = True\n",
    "\n",
    "        return diff_eq.DM_baryon_ODE(\n",
    "            rs, var,\n",
    "            _m_m, _m_C, _Q, _Q_d_eff, neutral_H, neutral_He, _f, True, zero_V_rel=True\n",
    "        )\n",
    "\n",
    "    # Number of attempts. \n",
    "    N_attempts = 0\n",
    "    solved     = False\n",
    "\n",
    "    error_arr = [] \n",
    "\n",
    "    while (not solved) and (N_attempts < 3):\n",
    "\n",
    "        try:\n",
    "\n",
    "            N_attempts += 1\n",
    "\n",
    "            soln = solve_ivp(\n",
    "                to_integrate, [rs_vec[0], rs_vec[-1]], init_cond, \n",
    "                method='BDF', t_eval=rs_vec, \n",
    "                rtol=_rtol, max_step=_max_step\n",
    "            )\n",
    "\n",
    "        except:\n",
    "            # solve_ivp returned an error. Adjust the tolerance\n",
    "            # and step size and try again. \n",
    "\n",
    "            _rtol /= 1.2\n",
    "            _max_step /= 1.5\n",
    "\n",
    "        else:\n",
    "            # solve_ivp completed successfully. Check the solution though:\n",
    "            if soln['t'].size == rs_vec.size and not np.isnan(soln['y']).any():\n",
    "\n",
    "                solved = True\n",
    "\n",
    "    if not solved:\n",
    "\n",
    "        soln = False\n",
    "\n",
    "    return soln "
   ]
  },
  {
   "cell_type": "markdown",
   "metadata": {},
   "source": [
    "# Fixed Parameters"
   ]
  },
  {
   "cell_type": "code",
   "execution_count": 6,
   "metadata": {},
   "outputs": [],
   "source": [
    "rs_start = 4000\n",
    "rs_vec   = np.flipud(np.arange(10., rs_start, 1))\n",
    "\n",
    "# Fixed Parameters\n",
    "f   = 1e-4\n",
    "m_C = 1e8   \n",
    "\n",
    "# Loop Points\n",
    "m_m_arr = 10**np.arange(6.2, 13.2, 0.2)\n",
    "Q_arr   = 10**np.arange(-6.,  0.2, 0.2) # 31 entries"
   ]
  },
  {
   "cell_type": "markdown",
   "metadata": {},
   "source": [
    "# Loop"
   ]
  },
  {
   "cell_type": "code",
   "execution_count": null,
   "metadata": {},
   "outputs": [],
   "source": [
    "soln_arr  = np.zeros((m_m_arr.size, Q_arr.size, rs_vec.size, 6))\n",
    "\n",
    "error_arr = []\n",
    "\n",
    "for i,m_m in enumerate(tqdm(m_m_arr)):\n",
    "    \n",
    "    # Initial conditions are T_CMB - T_b, T_b - T_m, log(T_C), log(V_bm), log(V_cb), xe\n",
    "    init_cond = [1e-5, 1e-5, np.log(1e-6), np.log(1e-16), np.log(1e-16), 1.] \n",
    "#     init_cond = [1e-5, 1e-5, np.log(1e-6), np.log(1e-16), np.log(29e5/phys.c), 1.] \n",
    "    \n",
    "    params = zip(\n",
    "        m_m*np.ones_like(Q_arr) , m_C*np.ones_like(Q_arr),\n",
    "        f*np.ones_like(Q_arr)   , Q_arr,\n",
    "        1e-4*np.ones_like(Q_arr), np.inf*np.ones_like(Q_arr) \n",
    "    )\n",
    "    \n",
    "    \n",
    "    # Parallelization.\n",
    "    \n",
    "    pool = Pool(Q_arr.size)\n",
    "    \n",
    "    soln_raw_arr = list(tqdm(pool.imap(solve_ODE, params)))\n",
    "    \n",
    "    for j,soln_raw in enumerate(soln_raw_arr): \n",
    "    \n",
    "        if soln_raw:\n",
    "\n",
    "            soln = np.transpose(soln_raw['y'])\n",
    "            \n",
    "            soln_arr[i,j] = soln\n",
    "\n",
    "            # Convert to (T_b, T_m, T_C, V_bm, V_mC)\n",
    "            soln_arr[i,j,:,0] = phys.TCMB(rs_vec) - soln_arr[i,j,:,0]\n",
    "            soln_arr[i,j,:,1] = soln_arr[i,j,:,0] - soln_arr[i,j,:,1]\n",
    "            soln_arr[i,j,:,2] = np.exp(soln_arr[i,j,:,2])\n",
    "            soln_arr[i,j,:,3] = np.exp(soln_arr[i,j,:,3])\n",
    "            soln_arr[i,j,:,4] = np.exp(soln_arr[i,j,:,4])\n",
    "\n",
    "        else:\n",
    "        \n",
    "            error_arr.append([i,j])\n",
    "            \n",
    "    print('Errors: ', error_arr)\n",
    "        "
   ]
  },
  {
   "cell_type": "code",
   "execution_count": 7,
   "metadata": {},
   "outputs": [],
   "source": [
    "# pickle.dump((soln_arr, error_arr), open('/home/hongwanl/millicharged_DM_with_bath/notebooks/data.p','wb'))\n",
    "\n",
    "soln_arr, error_arr = pickle.load(open('/home/hongwanl/millicharged_DM_with_bath/notebooks/data.p','rb'))\n",
    "\n",
    "    "
   ]
  },
  {
   "cell_type": "markdown",
   "metadata": {},
   "source": [
    "# Handling Problematic Points"
   ]
  },
  {
   "cell_type": "code",
   "execution_count": 13,
   "metadata": {
    "scrolled": false
   },
   "outputs": [
    {
     "name": "stdout",
     "output_type": "stream",
     "text": [
      "Number of problematic points:  3\n"
     ]
    },
    {
     "data": {
      "application/vnd.jupyter.widget-view+json": {
       "model_id": "617d2307c74643d686ff8d6d82dd3707",
       "version_major": 2,
       "version_minor": 0
      },
      "text/plain": [
       "HBox(children=(IntProgress(value=0, max=1), HTML(value='')))"
      ]
     },
     "metadata": {},
     "output_type": "display_data"
    },
    {
     "data": {
      "application/vnd.jupyter.widget-view+json": {
       "model_id": "2d44f67dae7343b288d6919e0092ad3a",
       "version_major": 2,
       "version_minor": 0
      },
      "text/plain": [
       "HBox(children=(IntProgress(value=1, bar_style='info', max=1), HTML(value='')))"
      ]
     },
     "metadata": {},
     "output_type": "display_data"
    },
    {
     "name": "stderr",
     "output_type": "stream",
     "text": [
      "../diff_eq_multi_2.py:158: RuntimeWarning: invalid value encountered in sqrt\n",
      "  u_m   = np.sqrt(T_m / m_m)\n",
      "../diff_eq_multi_2.py:248: RuntimeWarning: invalid value encountered in sqrt\n",
      "  u_m   = np.sqrt(T_m / m_m)\n",
      "/home/hongwanl/anaconda3/lib/python3.7/site-packages/scipy/integrate/_ivp/common.py:304: RuntimeWarning: invalid value encountered in greater_equal\n",
      "  f_sign = 2 * (np.real(f) >= 0).astype(float) - 1\n",
      "/home/hongwanl/anaconda3/lib/python3.7/site-packages/scipy/integrate/_ivp/common.py:333: RuntimeWarning: invalid value encountered in less\n",
      "  diff_too_small = max_diff < NUM_JAC_DIFF_REJECT * scale\n",
      "/home/hongwanl/anaconda3/lib/python3.7/site-packages/scipy/integrate/_ivp/common.py:358: RuntimeWarning: invalid value encountered in less\n",
      "  factor[max_diff < NUM_JAC_DIFF_SMALL * scale] *= NUM_JAC_FACTOR_INCREASE\n",
      "/home/hongwanl/anaconda3/lib/python3.7/site-packages/scipy/integrate/_ivp/common.py:359: RuntimeWarning: invalid value encountered in greater\n",
      "  factor[max_diff > NUM_JAC_DIFF_BIG * scale] *= NUM_JAC_FACTOR_DECREASE\n",
      "../diff_eq_multi_2.py:158: RuntimeWarning: invalid value encountered in sqrt\n",
      "  u_m   = np.sqrt(T_m / m_m)\n",
      "../diff_eq_multi_2.py:248: RuntimeWarning: invalid value encountered in sqrt\n",
      "  u_m   = np.sqrt(T_m / m_m)\n",
      "/home/hongwanl/anaconda3/lib/python3.7/site-packages/scipy/integrate/_ivp/common.py:304: RuntimeWarning: invalid value encountered in greater_equal\n",
      "  f_sign = 2 * (np.real(f) >= 0).astype(float) - 1\n",
      "/home/hongwanl/anaconda3/lib/python3.7/site-packages/scipy/integrate/_ivp/common.py:333: RuntimeWarning: invalid value encountered in less\n",
      "  diff_too_small = max_diff < NUM_JAC_DIFF_REJECT * scale\n",
      "/home/hongwanl/anaconda3/lib/python3.7/site-packages/scipy/integrate/_ivp/common.py:358: RuntimeWarning: invalid value encountered in less\n",
      "  factor[max_diff < NUM_JAC_DIFF_SMALL * scale] *= NUM_JAC_FACTOR_INCREASE\n",
      "/home/hongwanl/anaconda3/lib/python3.7/site-packages/scipy/integrate/_ivp/common.py:359: RuntimeWarning: invalid value encountered in greater\n",
      "  factor[max_diff > NUM_JAC_DIFF_BIG * scale] *= NUM_JAC_FACTOR_DECREASE\n"
     ]
    },
    {
     "name": "stdout",
     "output_type": "stream",
     "text": [
      "Solved: [ 24 ,  0 ]\n",
      "Solved: [ 24 ,  1 ]\n",
      "Solved: [ 25 ,  1 ]\n",
      "\n",
      "[]\n"
     ]
    }
   ],
   "source": [
    "print('Number of problematic points: ', len(error_arr))\n",
    "\n",
    "m_m_err_arr = np.array([m_m_arr[pt[0]] for pt in error_arr])\n",
    "Q_err_arr   = np.array([Q_arr[pt[1]] for pt in error_arr])\n",
    "\n",
    "solved_arr  = [False for _ in error_arr]\n",
    "\n",
    "# Initial conditions are T_CMB - T_b, T_b - T_m, log(T_C), log(V_bm), log(V_cb), xe\n",
    "init_cond = [2e-2, 2e-2, np.log(3e-4), np.log(1e-16), np.log(1e-16), 1.] \n",
    "#     init_cond = [1e-5, 1e-5, np.log(1e-6), np.log(1e-16), np.log(29e5/phys.c), 1.] \n",
    "\n",
    "# Strategies: adjust step-size, initial conditions\n",
    "\n",
    "params_full = np.transpose([\n",
    "    np.arange(len(error_arr)),\n",
    "    [err_ind[0] for err_ind in error_arr],\n",
    "    [err_ind[1] for err_ind in error_arr],\n",
    "    m_m_err_arr                   , m_C*np.ones_like(m_m_err_arr),\n",
    "    f*np.ones_like(m_m_err_arr)   , Q_err_arr,\n",
    "    7e-10*np.ones_like(m_m_err_arr), np.inf*np.ones_like(m_m_err_arr) \n",
    "])\n",
    "\n",
    "param_chunks = np.array_split(params_full, m_m_err_arr.size//Q_arr.size + 1)\n",
    "\n",
    "for params in tqdm(param_chunks):\n",
    "    \n",
    "    # Parallelization.\n",
    "\n",
    "    pool = Pool(Q_arr.size)\n",
    "\n",
    "    soln_raw_arr = list(tqdm(pool.imap(solve_ODE, params[:,3:])))\n",
    "\n",
    "    for err_ind,i,j,soln_raw in zip(\n",
    "        params[:,0].astype(int), \n",
    "        params[:,1].astype(int), params[:,2].astype(int), soln_raw_arr\n",
    "    ): \n",
    "\n",
    "        if soln_raw:\n",
    "\n",
    "            soln = np.transpose(soln_raw['y'])\n",
    "\n",
    "            soln_arr[i,j] = soln\n",
    "\n",
    "            # Convert to (T_b, T_m, T_C, V_bm, V_mC)\n",
    "            soln_arr[i,j,:,0] = phys.TCMB(rs_vec) - soln_arr[i,j,:,0]\n",
    "            soln_arr[i,j,:,1] = soln_arr[i,j,:,0] - soln_arr[i,j,:,1]\n",
    "            soln_arr[i,j,:,2] = np.exp(soln_arr[i,j,:,2])\n",
    "            soln_arr[i,j,:,3] = np.exp(soln_arr[i,j,:,3])\n",
    "            soln_arr[i,j,:,4] = np.exp(soln_arr[i,j,:,4])\n",
    "\n",
    "            print('Solved: [', i, ', ', j, ']')\n",
    "            solved_arr[err_ind] = True\n",
    "\n",
    "error_arr = [ind for solved,ind in zip(solved_arr,error_arr) if not solved]\n",
    "\n",
    "print(error_arr)\n",
    "\n",
    "pickle.dump((soln_arr, error_arr), open('/home/hongwanl/millicharged_DM_with_bath/notebooks/data.p','wb'))\n",
    "\n"
   ]
  },
  {
   "cell_type": "code",
   "execution_count": 14,
   "metadata": {},
   "outputs": [
    {
     "data": {
      "text/plain": [
       "<matplotlib.contour.QuadContourSet at 0x2ad3668454a8>"
      ]
     },
     "execution_count": 14,
     "metadata": {},
     "output_type": "execute_result"
    },
    {
     "data": {
      "image/png": "[encoded data removed]",
      "text/plain": [
       "<Figure size 620x620 with 1 Axes>"
      ]
     },
     "metadata": {},
     "output_type": "display_data"
    }
   ],
   "source": [
    "plt.figure()\n",
    "\n",
    "plt.loglog()\n",
    "\n",
    "plt.contour(m_m_arr, Q_arr, np.transpose(soln_arr[:,:,-8,0]/phys.kB), levels=[5.1])"
   ]
  },
  {
   "cell_type": "code",
   "execution_count": 15,
   "metadata": {},
   "outputs": [],
   "source": [
    "pickle.dump((m_m_arr, Q_arr, rs_vec, soln_arr), open('/home/hongwanl/millicharged_DM_with_bath/notebooks/f_1e-4_m_C_1e8.p','wb'))\n",
    "\n"
   ]
  },
  {
   "cell_type": "code",
   "execution_count": 9,
   "metadata": {},
   "outputs": [
    {
     "data": {
      "text/plain": [
       "14"
      ]
     },
     "execution_count": 9,
     "metadata": {},
     "output_type": "execute_result"
    }
   ],
   "source": [
    "m_m_err_arr = np.array([m_m_arr[pt[0]] for pt in error_arr])\n",
    "Q_err_arr   = np.array([Q_arr[pt[1]] for pt in error_arr])\n",
    "m_m_err_arr.size//Q_arr.size"
   ]
  },
  {
   "cell_type": "code",
   "execution_count": 11,
   "metadata": {},
   "outputs": [
    {
     "name": "stdout",
     "output_type": "stream",
     "text": [
      "450\n",
      "31\n"
     ]
    }
   ],
   "source": [
    "print(m_m_err_arr.size)\n",
    "print(Q_arr.size)"
   ]
  },
  {
   "cell_type": "code",
   "execution_count": 12,
   "metadata": {},
   "outputs": [
    {
     "data": {
      "text/plain": [
       "14.516129032258064"
      ]
     },
     "execution_count": 12,
     "metadata": {},
     "output_type": "execute_result"
    }
   ],
   "source": [
    "450/31"
   ]
  },
  {
   "cell_type": "code",
   "execution_count": null,
   "metadata": {},
   "outputs": [],
   "source": []
  }
 ],
 "metadata": {
  "kernelspec": {
   "display_name": "Python 3",
   "language": "python",
   "name": "python3"
  },
  "language_info": {
   "codemirror_mode": {
    "name": "ipython",
    "version": 3
   },
   "file_extension": ".py",
   "mimetype": "text/x-python",
   "name": "python",
   "nbconvert_exporter": "python",
   "pygments_lexer": "ipython3",
   "version": "3.7.3"
  },
  "toc": {
   "base_numbering": 1,
   "nav_menu": {},
   "number_sections": true,
   "sideBar": true,
   "skip_h1_title": false,
   "title_cell": "Table of Contents",
   "title_sidebar": "Contents",
   "toc_cell": false,
   "toc_position": {},
   "toc_section_display": true,
   "toc_window_display": false
  }
 },
 "nbformat": 4,
 "nbformat_minor": 2
}
